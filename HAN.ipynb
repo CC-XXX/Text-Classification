{
 "cells": [
  {
   "cell_type": "code",
   "execution_count": 1,
   "metadata": {
    "colab": {
     "autoexec": {
      "startup": false,
      "wait_interval": 0
     }
    },
    "colab_type": "code",
    "id": "qktAMHpzO2Pa"
   },
   "outputs": [],
   "source": [
    "import numpy as np\n",
    "import pandas as pd\n",
    "import pickle\n",
    "from collections import defaultdict\n",
    "import re\n",
    "from bs4 import BeautifulSoup\n",
    "import sys\n",
    "import os\n",
    "os.environ['KERAS_BACKEND']='theano'\n",
    "from keras.preprocessing.text import Tokenizer,text_to_word_sequence\n",
    "from keras.preprocessing.sequence import pad_sequences\n",
    "from keras.utils.np_utils import to_categorical\n",
    "from keras.layers import Embedding\n",
    "from keras.layers import Dense, Input, Flatten\n",
    "from keras.layers import Conv1D, MaxPooling1D, Embedding, Dropout, LSTM, GRU, Bidirectional, TimeDistributed\n",
    "from keras.models import Model\n",
    "from keras.callbacks import ModelCheckpoint, EarlyStopping\n",
    "import matplotlib.pyplot as plt\n",
    "plt.switch_backend('agg')\n",
    "from keras import backend as K\n",
    "from tensorflow.keras.layers import Layer, InputSpec\n",
    "from keras import initializers\n",
    "import tensorflow as tf\n",
    "%matplotlib inline"
   ]
  },
  {
   "cell_type": "code",
   "execution_count": 2,
   "metadata": {
    "colab": {
     "autoexec": {
      "startup": false,
      "wait_interval": 0
     }
    },
    "colab_type": "code",
    "id": "dYh0z7QmO4Fd"
   },
   "outputs": [],
   "source": [
    "def clean_str(string):\n",
    "    string = re.sub(r\"\\\\\", \"\", string)\n",
    "    string = re.sub(r\"\\'\", \"\", string)\n",
    "    string = re.sub(r\"\\\"\", \"\", string)\n",
    "    return string.strip().lower()"
   ]
  },
  {
   "cell_type": "code",
   "execution_count": 3,
   "metadata": {
    "colab": {
     "autoexec": {
      "startup": false,
      "wait_interval": 0
     }
    },
    "colab_type": "code",
    "id": "Ojcss8mgPVu1"
   },
   "outputs": [],
   "source": [
    "MAX_SENT_LENGTH = 100\n",
    "MAX_SENTS = 15\n",
    "MAX_NB_WORDS = 15000\n",
    "EMBEDDING_DIM = 200 #100\n",
    "VALIDATION_SPLIT = 0.2\n",
    "LOAD_MODEL = True # True\n",
    "EVALUATION_MODE = False\n",
    "RUNS = 1"
   ]
  },
  {
   "cell_type": "code",
   "execution_count": 4,
   "metadata": {},
   "outputs": [],
   "source": [
    "# reading data\n",
    "import tensorflow_datasets as tfds\n",
    "\n",
    "import sys\n",
    "\n",
    "sys.path.append(r\"myutils\")\n",
    "\n",
    "from myutils import clean_doc,clean_doc_HAN\n",
    "\n",
    "\n",
    "import os"
   ]
  },
  {
   "cell_type": "code",
   "execution_count": 5,
   "metadata": {
    "colab": {
     "autoexec": {
      "startup": false,
      "wait_interval": 0
     },
     "base_uri": "https://localhost:8080/",
     "height": 68
    },
    "colab_type": "code",
    "executionInfo": {
     "elapsed": 971,
     "status": "ok",
     "timestamp": 1530792394012,
     "user": {
      "displayName": "Akshat Maheshwari",
      "photoUrl": "//lh5.googleusercontent.com/-f-xJkriVoaI/AAAAAAAAAAI/AAAAAAAAAVQ/TLGa4qObGgQ/s50-c-k-no/photo.jpg",
      "userId": "114426356464940466000"
     },
     "user_tz": -330
    },
    "id": "HwpX0l5_PX6P",
    "outputId": "6752cb14-6065-454e-8ec1-5f1d07713469"
   },
   "outputs": [
    {
     "name": "stdout",
     "output_type": "stream",
     "text": [
      "Train samples: 25000\n",
      "Test samples:  25000\n"
     ]
    }
   ],
   "source": [
    "#Load train dataset\n",
    "DATASET = \"imdb_reviews\"   #   'yelp_polarity_reviews'\n",
    "train = tfds.as_numpy(tfds.load(DATASET, data_dir=f\"{DATASET}\", split=\"train\", batch_size=-1))\n",
    "reviews = []\n",
    "for x in train[\"text\"]:\n",
    "    #print(clean_doc_HAN(x.decode()))\n",
    "    reviews.append(clean_doc_HAN(x.decode()))\n",
    "\n",
    "X_train, y_train = [clean_doc(x.decode()) for x in train[\"text\"]], train[\"label\"]\n",
    "\n",
    "# Load test dataset\n",
    "test = tfds.as_numpy(tfds.load(DATASET, data_dir=f\"{DATASET}\", split=\"test\", batch_size=-1))\n",
    "X_test, y_test = [clean_doc(x.decode()) for x in test[\"text\"]], test[\"label\"]\n",
    "\n",
    "print(f\"Train samples: {len(X_train)}\")\n",
    "print(f\"Test samples:  {len(X_test)}\")"
   ]
  },
  {
   "cell_type": "code",
   "execution_count": 6,
   "metadata": {
    "colab": {
     "autoexec": {
      "startup": false,
      "wait_interval": 0
     }
    },
    "colab_type": "code",
    "id": "WzwyO0qxQC2z"
   },
   "outputs": [],
   "source": [
    "if LOAD_MODEL:\n",
    "    with open('model/tokenizer_han.pickle', 'rb') as handle:\n",
    "        tokenizer = pickle.load(handle)\n",
    "else:\n",
    "    tokenizer = Tokenizer(num_words=MAX_NB_WORDS)\n",
    "    tokenizer.fit_on_texts(X_train)\n",
    "\n",
    "data1 = np.zeros((len(X_train), MAX_SENTS, MAX_SENT_LENGTH), dtype='int32')\n",
    "\n",
    "for i, sentences in enumerate(reviews):\n",
    "    #print(sentences)\n",
    "    for j, sent in enumerate(sentences):\n",
    "        if j< MAX_SENTS:\n",
    "            wordTokens = text_to_word_sequence(sent)\n",
    "            k=0\n",
    "            for _, word in enumerate(wordTokens):\n",
    "                if word in tokenizer.word_index.keys():\n",
    "                    if k<MAX_SENT_LENGTH and tokenizer.word_index[word]<MAX_NB_WORDS:\n",
    "                        data1[i,j,k] = tokenizer.word_index[word]\n",
    "                        k=k+1\n"
   ]
  },
  {
   "cell_type": "code",
   "execution_count": 7,
   "metadata": {
    "colab": {
     "autoexec": {
      "startup": false,
      "wait_interval": 0
     },
     "base_uri": "https://localhost:8080/",
     "height": 34
    },
    "colab_type": "code",
    "executionInfo": {
     "elapsed": 1092,
     "status": "ok",
     "timestamp": 1530792401443,
     "user": {
      "displayName": "Akshat Maheshwari",
      "photoUrl": "//lh5.googleusercontent.com/-f-xJkriVoaI/AAAAAAAAAAI/AAAAAAAAAVQ/TLGa4qObGgQ/s50-c-k-no/photo.jpg",
      "userId": "114426356464940466000"
     },
     "user_tz": -330
    },
    "id": "M9u7IPzpQU7K",
    "outputId": "c7d191a4-3fe0-4966-b743-399a094ec637"
   },
   "outputs": [
    {
     "name": "stdout",
     "output_type": "stream",
     "text": [
      "No. of 121361 unique tokens.\n"
     ]
    }
   ],
   "source": [
    "word_index = tokenizer.word_index\n",
    "print('No. of %s unique tokens.' % len(word_index))"
   ]
  },
  {
   "cell_type": "code",
   "execution_count": 8,
   "metadata": {
    "colab": {
     "autoexec": {
      "startup": false,
      "wait_interval": 0
     },
     "base_uri": "https://localhost:8080/",
     "height": 51
    },
    "colab_type": "code",
    "executionInfo": {
     "elapsed": 1420,
     "status": "ok",
     "timestamp": 1530792402941,
     "user": {
      "displayName": "Akshat Maheshwari",
      "photoUrl": "//lh5.googleusercontent.com/-f-xJkriVoaI/AAAAAAAAAAI/AAAAAAAAAVQ/TLGa4qObGgQ/s50-c-k-no/photo.jpg",
      "userId": "114426356464940466000"
     },
     "user_tz": -330
    },
    "id": "m-d7UKTIQcwp",
    "outputId": "c7a61c30-ecd3-467f-ee4e-39e883c865d3"
   },
   "outputs": [
    {
     "name": "stdout",
     "output_type": "stream",
     "text": [
      "Shape of data tensor: (25000, 15, 100)\n",
      "Shape of label tensor: (25000, 2)\n"
     ]
    }
   ],
   "source": [
    "labels1 = to_categorical(np.asarray(y_train))\n",
    "print('Shape of data tensor:', data1.shape)\n",
    "print('Shape of label tensor:', labels1.shape)"
   ]
  },
  {
   "cell_type": "code",
   "execution_count": 9,
   "metadata": {
    "colab": {
     "autoexec": {
      "startup": false,
      "wait_interval": 0
     }
    },
    "colab_type": "code",
    "id": "rUDWPQRvQ_B2"
   },
   "outputs": [
    {
     "name": "stdout",
     "output_type": "stream",
     "text": [
      "Pretrained GloVe embedding is loading...\n",
      "Found 400000 word vectors in GloVe embedding\n",
      "\n"
     ]
    }
   ],
   "source": [
    "from myutils import create_glove_embeddings_HAN\n",
    "\n",
    "embeddings_index = create_glove_embeddings_HAN(EMBEDDING_DIM)\n",
    "\n",
    "embedding_matrix = np.random.random((len(word_index) + 1, EMBEDDING_DIM))\n",
    "for word, i in word_index.items():\n",
    "    embedding_vector = embeddings_index.get(word)\n",
    "    if embedding_vector is not None:\n",
    "        # words not found in embedding index will be all-zeros.\n",
    "        embedding_matrix[i] = embedding_vector\n",
    "\n",
    "embedding_layer = Embedding(len(word_index) + 1,\n",
    "                            EMBEDDING_DIM,\n",
    "                            weights=[embedding_matrix],\n",
    "                            input_length=MAX_SENT_LENGTH,\n",
    "                            trainable=True)"
   ]
  },
  {
   "cell_type": "code",
   "execution_count": 10,
   "metadata": {
    "colab": {
     "autoexec": {
      "startup": false,
      "wait_interval": 0
     },
     "base_uri": "https://localhost:8080/",
     "height": 343
    },
    "colab_type": "code",
    "executionInfo": {
     "elapsed": 124363,
     "status": "ok",
     "timestamp": 1530792542554,
     "user": {
      "displayName": "Akshat Maheshwari",
      "photoUrl": "//lh5.googleusercontent.com/-f-xJkriVoaI/AAAAAAAAAAI/AAAAAAAAAVQ/TLGa4qObGgQ/s50-c-k-no/photo.jpg",
      "userId": "114426356464940466000"
     },
     "user_tz": -330
    },
    "id": "zKz6YxXoRIEe",
    "outputId": "d99c8642-0990-4ff3-a351-69c63a41b636"
   },
   "outputs": [
    {
     "name": "stdout",
     "output_type": "stream",
     "text": [
      "Model: \"model_1\"\n",
      "_________________________________________________________________\n",
      " Layer (type)                Output Shape              Param #   \n",
      "=================================================================\n",
      " input_2 (InputLayer)        [(None, 15, 100)]         0         \n",
      "                                                                 \n",
      " time_distributed (TimeDistr  (None, 15, 100)          24372800  \n",
      " ibuted)                                                         \n",
      "                                                                 \n",
      " bidirectional_1 (Bidirectio  (None, 100)              60400     \n",
      " nal)                                                            \n",
      "                                                                 \n",
      " dense (Dense)               (None, 2)                 202       \n",
      "                                                                 \n",
      "=================================================================\n",
      "Total params: 24,433,402\n",
      "Trainable params: 24,433,402\n",
      "Non-trainable params: 0\n",
      "_________________________________________________________________\n"
     ]
    }
   ],
   "source": [
    "if LOAD_MODEL:\n",
    "    from keras.models import load_model\n",
    "\n",
    "    model=load_model('model_han_.h5')\n",
    "    model.compile(loss='categorical_crossentropy',\n",
    "              optimizer=tf.optimizers.SGD(),\n",
    "              metrics=['acc'])\n",
    "    model.summary()\n",
    "else:\n",
    "    sentence_input = Input(shape=(MAX_SENT_LENGTH,), dtype='int32')\n",
    "    embedded_sequences = embedding_layer(sentence_input)\n",
    "    l_lstm = Bidirectional(LSTM(50))(embedded_sequences)\n",
    "    sentEncoder = Model(sentence_input, l_lstm)\n",
    "\n",
    "    review_input = Input(shape=(MAX_SENTS,MAX_SENT_LENGTH), dtype='int32')\n",
    "    review_encoder = TimeDistributed(sentEncoder)(review_input)\n",
    "    l_lstm_sent = Bidirectional(LSTM(50))(review_encoder)\n",
    "    preds = Dense(2, activation='softmax')(l_lstm_sent)\n",
    "    model = Model(review_input, preds)\n",
    "\n",
    "    model.compile(loss='categorical_crossentropy',\n",
    "              optimizer=tf.optimizers.SGD(),\n",
    "              metrics=['acc'])\n",
    "\n",
    "    print(\"Hierachical LSTM\")\n",
    "    model.summary()"
   ]
  },
  {
   "cell_type": "code",
   "execution_count": 11,
   "metadata": {
    "colab": {
     "autoexec": {
      "startup": false,
      "wait_interval": 0
     },
     "base_uri": "https://localhost:8080/",
     "height": 1074
    },
    "colab_type": "code",
    "executionInfo": {
     "elapsed": 608660,
     "status": "ok",
     "timestamp": 1530793151231,
     "user": {
      "displayName": "Akshat Maheshwari",
      "photoUrl": "//lh5.googleusercontent.com/-f-xJkriVoaI/AAAAAAAAAAI/AAAAAAAAAVQ/TLGa4qObGgQ/s50-c-k-no/photo.jpg",
      "userId": "114426356464940466000"
     },
     "user_tz": -330
    },
    "id": "EJKKRZnYRdIw",
    "outputId": "fafa35cc-0396-41fb-8faf-d994c6279fa0"
   },
   "outputs": [
    {
     "name": "stdout",
     "output_type": "stream",
     "text": [
      "Running iteration 1/1\n",
      "Epoch 1/13\n",
      "400/400 [==============================] - ETA: 0s - loss: 0.4364 - acc: 0.7984\n",
      "Epoch 1: val_loss improved from inf to 0.42089, saving model to model_han_.h5\n",
      "400/400 [==============================] - 479s 1s/step - loss: 0.4364 - acc: 0.7984 - val_loss: 0.4209 - val_acc: 0.8130\n",
      "Epoch 2/13\n",
      "400/400 [==============================] - ETA: 0s - loss: 0.4194 - acc: 0.8090\n",
      "Epoch 2: val_loss did not improve from 0.42089\n",
      "400/400 [==============================] - 456s 1s/step - loss: 0.4194 - acc: 0.8090 - val_loss: 0.4365 - val_acc: 0.7978\n",
      "Epoch 3/13\n",
      "400/400 [==============================] - ETA: 0s - loss: 0.4122 - acc: 0.8124\n",
      "Epoch 3: val_loss improved from 0.42089 to 0.38678, saving model to model_han_.h5\n",
      "400/400 [==============================] - 397s 991ms/step - loss: 0.4122 - acc: 0.8124 - val_loss: 0.3868 - val_acc: 0.8300\n",
      "Epoch 4/13\n",
      "400/400 [==============================] - ETA: 0s - loss: 0.4064 - acc: 0.8164\n",
      "Epoch 4: val_loss did not improve from 0.38678\n",
      "400/400 [==============================] - 310s 774ms/step - loss: 0.4064 - acc: 0.8164 - val_loss: 0.4305 - val_acc: 0.8016\n",
      "Epoch 5/13\n",
      "400/400 [==============================] - ETA: 0s - loss: 0.3934 - acc: 0.8245\n",
      "Epoch 5: val_loss improved from 0.38678 to 0.37784, saving model to model_han_.h5\n",
      "400/400 [==============================] - 309s 774ms/step - loss: 0.3934 - acc: 0.8245 - val_loss: 0.3778 - val_acc: 0.8338\n",
      "Epoch 6/13\n",
      "400/400 [==============================] - ETA: 0s - loss: 0.3928 - acc: 0.8248\n",
      "Epoch 6: val_loss did not improve from 0.37784\n",
      "400/400 [==============================] - 313s 784ms/step - loss: 0.3928 - acc: 0.8248 - val_loss: 0.3862 - val_acc: 0.8334\n",
      "Epoch 7/13\n",
      "400/400 [==============================] - ETA: 0s - loss: 0.3799 - acc: 0.8313\n",
      "Epoch 7: val_loss did not improve from 0.37784\n",
      "400/400 [==============================] - 298s 744ms/step - loss: 0.3799 - acc: 0.8313 - val_loss: 0.3912 - val_acc: 0.8204\n",
      "Epoch 7: early stopping\n"
     ]
    }
   ],
   "source": [
    "if not EVALUATION_MODE:\n",
    "\n",
    "    cp=ModelCheckpoint('model_han_.h5',monitor='val_loss',verbose=1,save_best_only=True, mode=\"min\")\n",
    "    earlystop = EarlyStopping(monitor='val_loss',\n",
    "                          min_delta=0,\n",
    "                          patience=2,\n",
    "                          verbose=1)\n",
    "    \n",
    "    for i in range(RUNS):\n",
    "        print(f\"Running iteration {i+1}/{RUNS}\")\n",
    "\n",
    "\n",
    "        indices = np.arange(data1.shape[0])\n",
    "        np.random.shuffle(indices)\n",
    "        data = data1[indices]\n",
    "        labels = labels1[indices]\n",
    "        nb_validation_samples = int(VALIDATION_SPLIT * data1.shape[0])\n",
    "        \n",
    "        x_train = data[:-nb_validation_samples]\n",
    "        y_train = labels[:-nb_validation_samples]\n",
    "        x_val = data[-nb_validation_samples:]\n",
    "        y_val = labels[-nb_validation_samples:]\n",
    "\n",
    "\n",
    "        history=model.fit(x_train, y_train, validation_data=(x_val, y_val),\n",
    "              epochs=15, batch_size=50,callbacks=[cp, earlystop])"
   ]
  },
  {
   "cell_type": "code",
   "execution_count": 12,
   "metadata": {},
   "outputs": [
    {
     "name": "stdout",
     "output_type": "stream",
     "text": [
      "tokenizer has been saved.\n"
     ]
    }
   ],
   "source": [
    "if not EVALUATION_MODE:\n",
    "    with open('model/tokenizer_han.pickle', 'wb') as handle:\n",
    "        pickle.dump(tokenizer, handle, protocol=pickle.HIGHEST_PROTOCOL)\n",
    "        print(\"tokenizer has been saved.\")"
   ]
  },
  {
   "cell_type": "code",
   "execution_count": 13,
   "metadata": {
    "colab": {
     "autoexec": {
      "startup": false,
      "wait_interval": 0
     },
     "base_uri": "https://localhost:8080/",
     "height": 302
    },
    "colab_type": "code",
    "executionInfo": {
     "elapsed": 2221,
     "status": "ok",
     "timestamp": 1530793153471,
     "user": {
      "displayName": "Akshat Maheshwari",
      "photoUrl": "//lh5.googleusercontent.com/-f-xJkriVoaI/AAAAAAAAAAI/AAAAAAAAAVQ/TLGa4qObGgQ/s50-c-k-no/photo.jpg",
      "userId": "114426356464940466000"
     },
     "user_tz": -330
    },
    "id": "s2trhmd3RNkk",
    "outputId": "618201e7-902b-4de9-bd5e-e4a05b65c931"
   },
   "outputs": [
    {
     "data": {
      "image/png": "[encoded data removed]",
      "text/plain": [
       "<Figure size 432x288 with 1 Axes>"
      ]
     },
     "metadata": {
      "needs_background": "light"
     },
     "output_type": "display_data"
    }
   ],
   "source": [
    "if not EVALUATION_MODE:\n",
    "    fig1 = plt.figure()\n",
    "    plt.plot(history.history['loss'],'r',linewidth=3.0)\n",
    "    plt.plot(history.history['val_loss'],'b',linewidth=3.0)\n",
    "    plt.legend(['Training loss', 'Validation Loss'],fontsize=18)\n",
    "    plt.xlabel('Epochs ',fontsize=16)\n",
    "    plt.ylabel('Loss',fontsize=16)\n",
    "    plt.title('Loss Curves :HAN',fontsize=16)\n",
    "    fig1.savefig('loss_han.png')\n",
    "    plt.show()"
   ]
  },
  {
   "cell_type": "code",
   "execution_count": 14,
   "metadata": {
    "colab": {
     "autoexec": {
      "startup": false,
      "wait_interval": 0
     },
     "base_uri": "https://localhost:8080/",
     "height": 302
    },
    "colab_type": "code",
    "executionInfo": {
     "elapsed": 1471,
     "status": "ok",
     "timestamp": 1530793155073,
     "user": {
      "displayName": "Akshat Maheshwari",
      "photoUrl": "//lh5.googleusercontent.com/-f-xJkriVoaI/AAAAAAAAAAI/AAAAAAAAAVQ/TLGa4qObGgQ/s50-c-k-no/photo.jpg",
      "userId": "114426356464940466000"
     },
     "user_tz": -330
    },
    "id": "ckA37QnERtzu",
    "outputId": "451e6f61-7eec-4904-ed24-e68adec92156"
   },
   "outputs": [
    {
     "data": {
      "image/png": "[encoded data removed]",
      "text/plain": [
       "<Figure size 432x288 with 1 Axes>"
      ]
     },
     "metadata": {
      "needs_background": "light"
     },
     "output_type": "display_data"
    }
   ],
   "source": [
    "if not EVALUATION_MODE:\n",
    "    fig2=plt.figure()\n",
    "    plt.plot(history.history['acc'],'r',linewidth=3.0)\n",
    "    plt.plot(history.history['val_acc'],'b',linewidth=3.0)\n",
    "    plt.legend(['Training Accuracy', 'Validation Accuracy'],fontsize=18)\n",
    "    plt.xlabel('Epochs ',fontsize=16)\n",
    "    plt.ylabel('Accuracy',fontsize=16)\n",
    "    plt.title('Accuracy Curves : HAN',fontsize=16)\n",
    "    fig2.savefig('accuracy_han.png')\n",
    "    plt.show()"
   ]
  },
  {
   "cell_type": "code",
   "execution_count": 15,
   "metadata": {
    "colab": {
     "autoexec": {
      "startup": false,
      "wait_interval": 0
     }
    },
    "colab_type": "code",
    "id": "gY9XUmT9k6Rb"
   },
   "outputs": [],
   "source": [
    "if not EVALUATION_MODE:\n",
    "    from keras.utils.vis_utils import plot_model\n",
    "    plot_model(model, to_file='han_model.png', show_shapes=True, show_layer_names=True)"
   ]
  },
  {
   "cell_type": "code",
   "execution_count": 16,
   "metadata": {
    "colab": {
     "autoexec": {
      "startup": false,
      "wait_interval": 0
     },
     "base_uri": "https://localhost:8080/",
     "height": 422
    },
    "colab_type": "code",
    "executionInfo": {
     "elapsed": 1061,
     "status": "ok",
     "timestamp": 1530797447889,
     "user": {
      "displayName": "Akshat Maheshwari",
      "photoUrl": "//lh5.googleusercontent.com/-f-xJkriVoaI/AAAAAAAAAAI/AAAAAAAAAVQ/TLGa4qObGgQ/s50-c-k-no/photo.jpg",
      "userId": "114426356464940466000"
     },
     "user_tz": -330
    },
    "id": "oIYhXM6Yoqog",
    "outputId": "dcb579d9-50e0-4a9a-e16e-dc92c33cf0a1"
   },
   "outputs": [],
   "source": [
    "if EVALUATION_MODE:\n",
    "    from PIL import Image\n",
    "    display(Image.open('han_model.png'))"
   ]
  },
  {
   "cell_type": "code",
   "execution_count": 17,
   "metadata": {
    "colab": {
     "autoexec": {
      "startup": false,
      "wait_interval": 0
     }
    },
    "colab_type": "code",
    "id": "Bc3K9kObo1Zc"
   },
   "outputs": [
    {
     "name": "stdout",
     "output_type": "stream",
     "text": [
      "782/782 [==============================] - 110s 137ms/step - loss: 1.1742 - acc: 0.4988\n",
      "\n",
      "Loss / accuracy on testset: 1.1741790771484375 loss / 0.49876001477241516 acc\n",
      "Standard deviation: (+-0.0) loss / (+-0.0) acc\n"
     ]
    }
   ],
   "source": [
    "from keras.models import load_model\n",
    "# evaluation\n",
    "with open('model/tokenizer_han.pickle', 'rb') as handle:\n",
    "    tokenizer = pickle.load(handle)\n",
    "sequences_test = tokenizer.texts_to_sequences(X_test)\n",
    "\n",
    "data_test = np.zeros((len(X_test), MAX_SENTS, MAX_SENT_LENGTH), dtype='int32')\n",
    "\n",
    "for i, sentences in enumerate(reviews):\n",
    "    #print(sentences)\n",
    "    for j, sent in enumerate(sentences):\n",
    "        if j< MAX_SENTS:\n",
    "            wordTokens = text_to_word_sequence(sent)\n",
    "            k=0\n",
    "            for _, word in enumerate(wordTokens):\n",
    "                if word in tokenizer.word_index.keys():\n",
    "                    if k<MAX_SENT_LENGTH and tokenizer.word_index[word]<MAX_NB_WORDS:\n",
    "                        data_test[i,j,k] = tokenizer.word_index[word]\n",
    "                        k=k+1\n",
    "\n",
    "X_test_word_han=data_test\n",
    "                        \n",
    "test_loss = []\n",
    "test_accs = []\n",
    "\n",
    "\n",
    "han_ = load_model(f\"model_han_.h5\")\n",
    "score = han_.evaluate(X_test_word_han, to_categorical(y_test), verbose=1)\n",
    "test_loss.append(score[0])\n",
    "test_accs.append(score[1])\n",
    "    \n",
    "print(f\"\\nLoss / accuracy on testset: {np.mean(test_loss)} loss / {np.mean(test_accs)} acc\")\n",
    "print(f\"Standard deviation: (+-{np.std(test_loss)}) loss / (+-{np.std(test_accs)}) acc\")\n"
   ]
  },
  {
   "cell_type": "code",
   "execution_count": null,
   "metadata": {},
   "outputs": [],
   "source": []
  }
 ],
 "metadata": {
  "colab": {
   "default_view": {},
   "name": "HAN.ipynb",
   "provenance": [],
   "version": "0.3.2",
   "views": {}
  },
  "kernelspec": {
   "display_name": "Python 3 (ipykernel)",
   "language": "python",
   "name": "python3"
  },
  "language_info": {
   "codemirror_mode": {
    "name": "ipython",
    "version": 3
   },
   "file_extension": ".py",
   "mimetype": "text/x-python",
   "name": "python",
   "nbconvert_exporter": "python",
   "pygments_lexer": "ipython3",
   "version": "3.9.6"
  }
 },
 "nbformat": 4,
 "nbformat_minor": 1
}
