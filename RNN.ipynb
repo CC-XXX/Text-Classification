{
 "cells": [
  {
   "cell_type": "code",
   "execution_count": 1,
   "metadata": {
    "colab": {
     "autoexec": {
      "startup": false,
      "wait_interval": 0
     }
    },
    "colab_type": "code",
    "id": "IWTXM4EVJ0Vp"
   },
   "outputs": [],
   "source": [
    "import numpy as np\n",
    "import pandas as pd\n",
    "import pickle\n",
    "from collections import defaultdict\n",
    "import re\n",
    "from bs4 import BeautifulSoup\n",
    "import sys\n",
    "import os\n",
    "os.environ['KERAS_BACKEND']='theano'\n",
    "from keras.preprocessing.text import Tokenizer\n",
    "from keras.preprocessing.sequence import pad_sequences\n",
    "from keras.utils.np_utils import to_categorical\n",
    "from keras.layers import Embedding\n",
    "from keras.layers import Dense, Input, Flatten\n",
    "from keras.layers import Conv1D, MaxPooling1D, Embedding, Dropout, LSTM, GRU, Bidirectional\n",
    "from keras.models import Model\n",
    "from keras.callbacks import ModelCheckpoint, EarlyStopping\n",
    "import matplotlib.pyplot as plt\n",
    "plt.switch_backend('agg')\n",
    "from keras import backend as K\n",
    "from tensorflow.keras.layers import Layer, InputSpec\n",
    "from keras import initializers\n",
    "import tensorflow as tf\n",
    "\n",
    "%matplotlib inline"
   ]
  },
  {
   "cell_type": "code",
   "execution_count": 2,
   "metadata": {
    "colab": {
     "autoexec": {
      "startup": false,
      "wait_interval": 0
     }
    },
    "colab_type": "code",
    "id": "FMMZoBf5J1Th"
   },
   "outputs": [],
   "source": [
    "def clean_str(string):\n",
    "    string = re.sub(r\"\\\\\", \"\", string)\n",
    "    string = re.sub(r\"\\'\", \"\", string)\n",
    "    string = re.sub(r\"\\\"\", \"\", string)\n",
    "    return string.strip().lower()"
   ]
  },
  {
   "cell_type": "code",
   "execution_count": 3,
   "metadata": {
    "colab": {
     "autoexec": {
      "startup": false,
      "wait_interval": 0
     }
    },
    "colab_type": "code",
    "id": "xovVXTjFKLU8"
   },
   "outputs": [],
   "source": [
    "MAX_SEQUENCE_LENGTH = 1000\n",
    "MAX_NB_WORDS = 15000\n",
    "EMBEDDING_DIM = 200 #100\n",
    "VALIDATION_SPLIT = 0.2\n",
    "LOAD_MODEL = False # True\n",
    "EVALUATION_MODE = False\n",
    "RUNS = 1"
   ]
  },
  {
   "cell_type": "code",
   "execution_count": 4,
   "metadata": {
    "colab": {
     "autoexec": {
      "startup": false,
      "wait_interval": 0
     },
     "base_uri": "https://localhost:8080/",
     "height": 68
    },
    "colab_type": "code",
    "executionInfo": {
     "elapsed": 1117,
     "status": "ok",
     "timestamp": 1530790268406,
     "user": {
      "displayName": "Akshat Maheshwari",
      "photoUrl": "//lh5.googleusercontent.com/-f-xJkriVoaI/AAAAAAAAAAI/AAAAAAAAAVQ/TLGa4qObGgQ/s50-c-k-no/photo.jpg",
      "userId": "114426356464940466000"
     },
     "user_tz": -330
    },
    "id": "G0fj58BfKOu5",
    "outputId": "a88cef11-1224-4d27-a2c2-e22a4f936eab"
   },
   "outputs": [
    {
     "name": "stdout",
     "output_type": "stream",
     "text": [
      "Train samples: 25000\n",
      "Test samples:  25000\n"
     ]
    }
   ],
   "source": [
    "# reading data\n",
    "import tensorflow_datasets as tfds\n",
    "\n",
    "import sys\n",
    "\n",
    "sys.path.append(r\"myutils\")\n",
    "\n",
    "from myutils import clean_doc\n",
    "\n",
    "\n",
    "import os\n",
    "\n",
    "\n",
    "#Load train dataset\n",
    "DATASET = \"imdb_reviews\"   #'yelp_polarity_reviews'\n",
    "train = tfds.as_numpy(tfds.load(DATASET, data_dir=f\"{DATASET}\", split=\"train\", batch_size=-1))\n",
    "X_train, y_train = [clean_doc(x.decode()) for x in train[\"text\"]], train[\"label\"]\n",
    "\n",
    "# Load test dataset\n",
    "test = tfds.as_numpy(tfds.load(DATASET, data_dir=f\"{DATASET}\", split=\"test\", batch_size=-1))\n",
    "X_test, y_test = [clean_doc(x.decode()) for x in test[\"text\"]], test[\"label\"]\n",
    "\n",
    "print(f\"Train samples: {len(X_train)}\")\n",
    "print(f\"Test samples:  {len(X_test)}\")"
   ]
  },
  {
   "cell_type": "code",
   "execution_count": 5,
   "metadata": {
    "colab": {
     "autoexec": {
      "startup": false,
      "wait_interval": 0
     },
     "base_uri": "https://localhost:8080/",
     "height": 34
    },
    "colab_type": "code",
    "executionInfo": {
     "elapsed": 978,
     "status": "ok",
     "timestamp": 1530790272094,
     "user": {
      "displayName": "Akshat Maheshwari",
      "photoUrl": "//lh5.googleusercontent.com/-f-xJkriVoaI/AAAAAAAAAAI/AAAAAAAAAVQ/TLGa4qObGgQ/s50-c-k-no/photo.jpg",
      "userId": "114426356464940466000"
     },
     "user_tz": -330
    },
    "id": "V4KRLKvPKd1R",
    "outputId": "f96fc511-0562-434d-8382-6502a6783506"
   },
   "outputs": [
    {
     "name": "stdout",
     "output_type": "stream",
     "text": [
      "Number of Unique Tokens 121361\n"
     ]
    }
   ],
   "source": [
    "tokenizer = Tokenizer(num_words=MAX_NB_WORDS)\n",
    "tokenizer.fit_on_texts(X_train)\n",
    "sequences = tokenizer.texts_to_sequences(X_train)\n",
    "\n",
    "word_index = tokenizer.word_index\n",
    "print('Number of Unique Tokens',len(word_index))\n",
    "\n",
    "with open('model/tokenizer_rnn.pickle', 'wb') as handle:\n",
    "    pickle.dump(tokenizer, handle, protocol=pickle.HIGHEST_PROTOCOL)\n",
    "    print(\"tokenizer has been saved.\")"
   ]
  },
  {
   "cell_type": "code",
   "execution_count": 6,
   "metadata": {
    "colab": {
     "autoexec": {
      "startup": false,
      "wait_interval": 0
     },
     "base_uri": "https://localhost:8080/",
     "height": 51
    },
    "colab_type": "code",
    "executionInfo": {
     "elapsed": 897,
     "status": "ok",
     "timestamp": 1530790273080,
     "user": {
      "displayName": "Akshat Maheshwari",
      "photoUrl": "//lh5.googleusercontent.com/-f-xJkriVoaI/AAAAAAAAAAI/AAAAAAAAAVQ/TLGa4qObGgQ/s50-c-k-no/photo.jpg",
      "userId": "114426356464940466000"
     },
     "user_tz": -330
    },
    "id": "RnjM0mCxKyVi",
    "outputId": "e4f25d93-f124-406c-daf6-cfbc7127988b"
   },
   "outputs": [
    {
     "name": "stdout",
     "output_type": "stream",
     "text": [
      "Shape of Data Tensor: (25000, 1000)\n",
      "Shape of Label Tensor: (25000, 2)\n"
     ]
    }
   ],
   "source": [
    "data1 = pad_sequences(sequences, maxlen=MAX_SEQUENCE_LENGTH)\n",
    "\n",
    "\n",
    "labels1 = to_categorical(np.asarray(y_train))\n",
    "print('Shape of Data Tensor:', data1.shape)\n",
    "print('Shape of Label Tensor:', labels1.shape)\n"
   ]
  },
  {
   "cell_type": "code",
   "execution_count": 7,
   "metadata": {
    "colab": {
     "autoexec": {
      "startup": false,
      "wait_interval": 0
     },
     "base_uri": "https://localhost:8080/",
     "height": 34
    },
    "colab_type": "code",
    "executionInfo": {
     "elapsed": 13830,
     "status": "ok",
     "timestamp": 1530790287000,
     "user": {
      "displayName": "Akshat Maheshwari",
      "photoUrl": "//lh5.googleusercontent.com/-f-xJkriVoaI/AAAAAAAAAAI/AAAAAAAAAVQ/TLGa4qObGgQ/s50-c-k-no/photo.jpg",
      "userId": "114426356464940466000"
     },
     "user_tz": -330
    },
    "id": "c0aypSbJK_yN",
    "outputId": "dfccfa98-1a77-4dc2-fa95-c5c9048fc2a9"
   },
   "outputs": [
    {
     "name": "stdout",
     "output_type": "stream",
     "text": [
      "Pretrained GloVe embedding is loading...\n",
      "Found 400000 word vectors in GloVe embedding\n",
      "\n"
     ]
    }
   ],
   "source": [
    "from myutils import create_glove_embeddings\n",
    "emb_layer = create_glove_embeddings(\n",
    "            embedding_dim  = EMBEDDING_DIM,\n",
    "            max_num_words  = MAX_NB_WORDS,\n",
    "            max_seq_length = MAX_SEQUENCE_LENGTH,\n",
    "            tokenizer      = tokenizer\n",
    "        )"
   ]
  },
  {
   "cell_type": "code",
   "execution_count": 8,
   "metadata": {
    "colab": {
     "autoexec": {
      "startup": false,
      "wait_interval": 0
     },
     "base_uri": "https://localhost:8080/",
     "height": 289
    },
    "colab_type": "code",
    "executionInfo": {
     "elapsed": 11390,
     "status": "ok",
     "timestamp": 1530790300647,
     "user": {
      "displayName": "Akshat Maheshwari",
      "photoUrl": "//lh5.googleusercontent.com/-f-xJkriVoaI/AAAAAAAAAAI/AAAAAAAAAVQ/TLGa4qObGgQ/s50-c-k-no/photo.jpg",
      "userId": "114426356464940466000"
     },
     "user_tz": -330
    },
    "id": "eExWnv0ALYaG",
    "outputId": "b1c4b12e-3fbf-4c85-e67b-faab3ea88274",
    "scrolled": true
   },
   "outputs": [
    {
     "name": "stdout",
     "output_type": "stream",
     "text": [
      "Bidirectional LSTM\n",
      "Model: \"model\"\n",
      "_________________________________________________________________\n",
      " Layer (type)                Output Shape              Param #   \n",
      "=================================================================\n",
      " input_1 (InputLayer)        [(None, 1000)]            0         \n",
      "                                                                 \n",
      " word_embedding (Embedding)  (None, 1000, 200)         3000000   \n",
      "                                                                 \n",
      " bidirectional (Bidirectiona  (None, 100)              100400    \n",
      " l)                                                              \n",
      "                                                                 \n",
      " dense (Dense)               (None, 2)                 202       \n",
      "                                                                 \n",
      "=================================================================\n",
      "Total params: 3,100,602\n",
      "Trainable params: 3,100,602\n",
      "Non-trainable params: 0\n",
      "_________________________________________________________________\n"
     ]
    }
   ],
   "source": [
    "if LOAD_MODEL:\n",
    "    from keras.models import load_model\n",
    "\n",
    "    model=load_model('model_rnn.h5')\n",
    "    model.compile(loss='categorical_crossentropy',\n",
    "              optimizer=tf.optimizers.SGD(),\n",
    "              metrics=['acc'])\n",
    "    model.summary()\n",
    "else:\n",
    "    sequence_input = Input(shape=(MAX_SEQUENCE_LENGTH,), dtype='int32')\n",
    "    embedded_sequences = emb_layer(sequence_input)\n",
    "    l_lstm = Bidirectional(LSTM(50))(embedded_sequences)\n",
    "    preds = Dense(2, activation='softmax')(l_lstm)\n",
    "    model = Model(sequence_input, preds)\n",
    "    model.compile(loss='categorical_crossentropy',\n",
    "              optimizer=tf.optimizers.SGD(),\n",
    "              metrics=['acc'])\n",
    "\n",
    "    print(\"Bidirectional LSTM\")\n",
    "    model.summary()"
   ]
  },
  {
   "cell_type": "code",
   "execution_count": 9,
   "metadata": {
    "colab": {
     "autoexec": {
      "startup": false,
      "wait_interval": 0
     },
     "base_uri": "https://localhost:8080/",
     "height": 1074
    },
    "colab_type": "code",
    "executionInfo": {
     "elapsed": 1702650,
     "status": "ok",
     "timestamp": 1530792237299,
     "user": {
      "displayName": "Akshat Maheshwari",
      "photoUrl": "//lh5.googleusercontent.com/-f-xJkriVoaI/AAAAAAAAAAI/AAAAAAAAAVQ/TLGa4qObGgQ/s50-c-k-no/photo.jpg",
      "userId": "114426356464940466000"
     },
     "user_tz": -330
    },
    "id": "S4xfBNtKLdD2",
    "outputId": "5a3abcce-be20-4c71-c989-5ebc191f064d"
   },
   "outputs": [
    {
     "name": "stdout",
     "output_type": "stream",
     "text": [
      "Running iteration 1/1\n",
      "Epoch 1/15\n",
      "400/400 [==============================] - ETA: 0s - loss: 0.6866 - acc: 0.5523\n",
      "Epoch 1: val_loss improved from inf to 0.67563, saving model to model_rnn.h5\n",
      "400/400 [==============================] - 927s 2s/step - loss: 0.6866 - acc: 0.5523 - val_loss: 0.6756 - val_acc: 0.6030\n",
      "Epoch 2/15\n",
      "400/400 [==============================] - ETA: 0s - loss: 0.6551 - acc: 0.6446\n",
      "Epoch 2: val_loss improved from 0.67563 to 0.62822, saving model to model_rnn.h5\n",
      "400/400 [==============================] - 894s 2s/step - loss: 0.6551 - acc: 0.6446 - val_loss: 0.6282 - val_acc: 0.6804\n",
      "Epoch 3/15\n",
      "400/400 [==============================] - ETA: 0s - loss: 0.5769 - acc: 0.7124\n",
      "Epoch 3: val_loss improved from 0.62822 to 0.53761, saving model to model_rnn.h5\n",
      "400/400 [==============================] - 903s 2s/step - loss: 0.5769 - acc: 0.7124 - val_loss: 0.5376 - val_acc: 0.7406\n",
      "Epoch 4/15\n",
      "400/400 [==============================] - ETA: 0s - loss: 0.5268 - acc: 0.7471\n",
      "Epoch 4: val_loss did not improve from 0.53761\n",
      "400/400 [==============================] - 894s 2s/step - loss: 0.5268 - acc: 0.7471 - val_loss: 0.6391 - val_acc: 0.6726\n",
      "Epoch 5/15\n",
      "400/400 [==============================] - ETA: 0s - loss: 0.4968 - acc: 0.7679\n",
      "Epoch 5: val_loss improved from 0.53761 to 0.46062, saving model to model_rnn.h5\n",
      "400/400 [==============================] - 876s 2s/step - loss: 0.4968 - acc: 0.7679 - val_loss: 0.4606 - val_acc: 0.7922\n",
      "Epoch 6/15\n",
      "400/400 [==============================] - ETA: 0s - loss: 0.4687 - acc: 0.7872\n",
      "Epoch 6: val_loss did not improve from 0.46062\n",
      "400/400 [==============================] - 856s 2s/step - loss: 0.4687 - acc: 0.7872 - val_loss: 0.4634 - val_acc: 0.7792\n",
      "Epoch 7/15\n",
      "400/400 [==============================] - ETA: 0s - loss: 0.4429 - acc: 0.7998\n",
      "Epoch 7: val_loss improved from 0.46062 to 0.43872, saving model to model_rnn.h5\n",
      "400/400 [==============================] - 844s 2s/step - loss: 0.4429 - acc: 0.7998 - val_loss: 0.4387 - val_acc: 0.8036\n",
      "Epoch 8/15\n",
      "400/400 [==============================] - ETA: 0s - loss: 0.4251 - acc: 0.8108\n",
      "Epoch 8: val_loss improved from 0.43872 to 0.42663, saving model to model_rnn.h5\n",
      "400/400 [==============================] - 834s 2s/step - loss: 0.4251 - acc: 0.8108 - val_loss: 0.4266 - val_acc: 0.8008\n",
      "Epoch 9/15\n",
      "400/400 [==============================] - ETA: 0s - loss: 0.4168 - acc: 0.8152\n",
      "Epoch 9: val_loss improved from 0.42663 to 0.41942, saving model to model_rnn.h5\n",
      "400/400 [==============================] - 837s 2s/step - loss: 0.4168 - acc: 0.8152 - val_loss: 0.4194 - val_acc: 0.8138\n",
      "Epoch 10/15\n",
      "400/400 [==============================] - ETA: 0s - loss: 0.3992 - acc: 0.8225\n",
      "Epoch 10: val_loss improved from 0.41942 to 0.41521, saving model to model_rnn.h5\n",
      "400/400 [==============================] - 837s 2s/step - loss: 0.3992 - acc: 0.8225 - val_loss: 0.4152 - val_acc: 0.8126\n",
      "Epoch 11/15\n",
      "400/400 [==============================] - ETA: 0s - loss: 0.3876 - acc: 0.8307\n",
      "Epoch 11: val_loss did not improve from 0.41521\n",
      "400/400 [==============================] - 826s 2s/step - loss: 0.3876 - acc: 0.8307 - val_loss: 0.4568 - val_acc: 0.7924\n",
      "Epoch 12/15\n",
      "400/400 [==============================] - ETA: 0s - loss: 0.3847 - acc: 0.8318\n",
      "Epoch 12: val_loss improved from 0.41521 to 0.40090, saving model to model_rnn.h5\n",
      "400/400 [==============================] - 812s 2s/step - loss: 0.3847 - acc: 0.8318 - val_loss: 0.4009 - val_acc: 0.8160\n",
      "Epoch 13/15\n",
      "400/400 [==============================] - ETA: 0s - loss: 0.3716 - acc: 0.8374\n",
      "Epoch 13: val_loss improved from 0.40090 to 0.38576, saving model to model_rnn.h5\n",
      "400/400 [==============================] - 818s 2s/step - loss: 0.3716 - acc: 0.8374 - val_loss: 0.3858 - val_acc: 0.8286\n",
      "Epoch 14/15\n",
      "400/400 [==============================] - ETA: 0s - loss: 0.3637 - acc: 0.8418\n",
      "Epoch 14: val_loss improved from 0.38576 to 0.37003, saving model to model_rnn.h5\n",
      "400/400 [==============================] - 857s 2s/step - loss: 0.3637 - acc: 0.8418 - val_loss: 0.3700 - val_acc: 0.8368\n",
      "Epoch 15/15\n",
      "400/400 [==============================] - ETA: 0s - loss: 0.3592 - acc: 0.8458\n",
      "Epoch 15: val_loss did not improve from 0.37003\n",
      "400/400 [==============================] - 855s 2s/step - loss: 0.3592 - acc: 0.8458 - val_loss: 0.3736 - val_acc: 0.8344\n"
     ]
    }
   ],
   "source": [
    "if not EVALUATION_MODE:\n",
    "    \n",
    "    cp=ModelCheckpoint('model_rnn.h5',monitor='val_loss',verbose=1,save_best_only=True, mode=\"min\")\n",
    "    earlystop = EarlyStopping(monitor='val_loss',\n",
    "                          min_delta=0,\n",
    "                          patience=10,\n",
    "                          verbose=1)\n",
    "    \n",
    "    for i in range(RUNS):\n",
    "        print(f\"Running iteration {i+1}/{RUNS}\")\n",
    "\n",
    "        indices = np.arange(data1.shape[0])\n",
    "        np.random.shuffle(indices)\n",
    "        data = data1[indices]\n",
    "        labels = labels1[indices]\n",
    "        nb_validation_samples = int(VALIDATION_SPLIT * data1.shape[0])\n",
    "\n",
    "        x_train = data[:-nb_validation_samples]\n",
    "        y_train = labels[:-nb_validation_samples]\n",
    "        x_val = data[-nb_validation_samples:]\n",
    "        y_val = labels[-nb_validation_samples:]\n",
    "\n",
    "\n",
    "\n",
    "        history=model.fit(x_train, y_train, validation_data=(x_val, y_val),epochs=15, batch_size=50,callbacks=[cp,earlystop])"
   ]
  },
  {
   "cell_type": "code",
   "execution_count": 10,
   "metadata": {
    "colab": {
     "autoexec": {
      "startup": false,
      "wait_interval": 0
     },
     "base_uri": "https://localhost:8080/",
     "height": 302
    },
    "colab_type": "code",
    "executionInfo": {
     "elapsed": 1410,
     "status": "ok",
     "timestamp": 1530792305211,
     "user": {
      "displayName": "Akshat Maheshwari",
      "photoUrl": "//lh5.googleusercontent.com/-f-xJkriVoaI/AAAAAAAAAAI/AAAAAAAAAVQ/TLGa4qObGgQ/s50-c-k-no/photo.jpg",
      "userId": "114426356464940466000"
     },
     "user_tz": -330
    },
    "id": "qM-5003zLm4R",
    "outputId": "253775e8-4782-4df4-8113-061d06deabfa"
   },
   "outputs": [
    {
     "data": {
      "image/png": "[encoded data removed]",
      "text/plain": [
       "<Figure size 432x288 with 1 Axes>"
      ]
     },
     "metadata": {
      "needs_background": "light"
     },
     "output_type": "display_data"
    }
   ],
   "source": [
    "if not EVALUATION_MODE:\n",
    "    fig1 = plt.figure()\n",
    "    plt.plot(history.history['loss'],'r',linewidth=3.0)\n",
    "    plt.plot(history.history['val_loss'],'b',linewidth=3.0)\n",
    "    plt.legend(['Training loss', 'Validation Loss'],fontsize=18)\n",
    "    plt.xlabel('Epochs ',fontsize=16)\n",
    "    plt.ylabel('Loss',fontsize=16)\n",
    "    plt.title('Loss Curves :RNN',fontsize=16)\n",
    "    fig1.savefig('loss_rnn.png')\n",
    "    plt.show()"
   ]
  },
  {
   "cell_type": "code",
   "execution_count": 11,
   "metadata": {
    "colab": {
     "autoexec": {
      "startup": false,
      "wait_interval": 0
     },
     "base_uri": "https://localhost:8080/",
     "height": 302
    },
    "colab_type": "code",
    "executionInfo": {
     "elapsed": 1471,
     "status": "ok",
     "timestamp": 1530792327305,
     "user": {
      "displayName": "Akshat Maheshwari",
      "photoUrl": "//lh5.googleusercontent.com/-f-xJkriVoaI/AAAAAAAAAAI/AAAAAAAAAVQ/TLGa4qObGgQ/s50-c-k-no/photo.jpg",
      "userId": "114426356464940466000"
     },
     "user_tz": -330
    },
    "id": "jlOpvtLtVNx5",
    "outputId": "0f68496c-d7d1-4a6f-d1b5-9fcefc3fb11f"
   },
   "outputs": [
    {
     "data": {
      "image/png": "[encoded data removed]",
      "text/plain": [
       "<Figure size 432x288 with 1 Axes>"
      ]
     },
     "metadata": {
      "needs_background": "light"
     },
     "output_type": "display_data"
    }
   ],
   "source": [
    "if not EVALUATION_MODE:\n",
    "    fig2=plt.figure()\n",
    "    plt.plot(history.history['acc'],'r',linewidth=3.0)\n",
    "    plt.plot(history.history['val_acc'],'b',linewidth=3.0)\n",
    "    plt.legend(['Training Accuracy', 'Validation Accuracy'],fontsize=18)\n",
    "    plt.xlabel('Epochs ',fontsize=16)\n",
    "    plt.ylabel('Accuracy',fontsize=16)\n",
    "    plt.title('Accuracy Curves : RNN',fontsize=16)\n",
    "    fig2.savefig('accuracy_rnn.png')\n",
    "    plt.show()"
   ]
  },
  {
   "cell_type": "code",
   "execution_count": 12,
   "metadata": {
    "colab": {
     "autoexec": {
      "startup": false,
      "wait_interval": 0
     }
    },
    "colab_type": "code",
    "id": "VSLWHsVmkr-8"
   },
   "outputs": [],
   "source": [
    "if not EVALUATION_MODE:\n",
    "    from keras.utils.vis_utils import plot_model\n",
    "    plot_model(model, to_file='rnn_model.png', show_shapes=True, show_layer_names=True)"
   ]
  },
  {
   "cell_type": "code",
   "execution_count": 13,
   "metadata": {
    "colab": {
     "autoexec": {
      "startup": false,
      "wait_interval": 0
     },
     "base_uri": "https://localhost:8080/",
     "height": 422
    },
    "colab_type": "code",
    "executionInfo": {
     "elapsed": 1204,
     "status": "ok",
     "timestamp": 1530797392167,
     "user": {
      "displayName": "Akshat Maheshwari",
      "photoUrl": "//lh5.googleusercontent.com/-f-xJkriVoaI/AAAAAAAAAAI/AAAAAAAAAVQ/TLGa4qObGgQ/s50-c-k-no/photo.jpg",
      "userId": "114426356464940466000"
     },
     "user_tz": -330
    },
    "id": "22B4674Rkwko",
    "outputId": "60c9f2c1-1390-425a-8451-f68c4655fde0"
   },
   "outputs": [],
   "source": [
    "if EVALUATION_MODE:\n",
    "    from PIL import Image\n",
    "    display(Image.open('rnn_model.png'))"
   ]
  },
  {
   "cell_type": "code",
   "execution_count": 14,
   "metadata": {
    "colab": {
     "autoexec": {
      "startup": false,
      "wait_interval": 0
     }
    },
    "colab_type": "code",
    "id": "zdU_K2hMomOJ"
   },
   "outputs": [
    {
     "name": "stdout",
     "output_type": "stream",
     "text": [
      "782/782 [==============================] - 321s 409ms/step - loss: 0.6971 - acc: 0.5121\n",
      "\n",
      "Loss / accuracy on testset: 0.6970992684364319 loss / 0.5121200084686279 acc\n",
      "Standard deviation: (+-0.0) loss / (+-0.0) acc\n"
     ]
    }
   ],
   "source": [
    "from keras.models import load_model\n",
    "# evaluation\n",
    "with open('model/tokenizer_rnn.pickle', 'rb') as handle:\n",
    "    tokenizer = pickle.load(handle)\n",
    "    \n",
    "    \n",
    "sequences_test = tokenizer.texts_to_sequences(X_test)\n",
    "X_test_word    = pad_sequences(\n",
    "    sequences_test,\n",
    "    maxlen  = MAX_SEQUENCE_LENGTH,\n",
    "    padding = 'post'\n",
    ")\n",
    "\n",
    "X_test_word = X_test_word\n",
    "\n",
    "\n",
    "\n",
    "test_loss = []\n",
    "test_accs = []\n",
    "\n",
    "\n",
    "cnn_ = load_model(f\"model_rnn.h5\")\n",
    "score = cnn_.evaluate(X_test_word, to_categorical(y_test), verbose=1)\n",
    "test_loss.append(score[0])\n",
    "test_accs.append(score[1])\n",
    "    \n",
    "print(f\"\\nLoss / accuracy on testset: {np.mean(test_loss)} loss / {np.mean(test_accs)} acc\")\n",
    "print(f\"Standard deviation: (+-{np.std(test_loss)}) loss / (+-{np.std(test_accs)}) acc\")"
   ]
  },
  {
   "cell_type": "code",
   "execution_count": 16,
   "metadata": {},
   "outputs": [
    {
     "name": "stdout",
     "output_type": "stream",
     "text": [
      "tokenizer has been saved.\n"
     ]
    }
   ],
   "source": [
    "if not os.path.exists('model'):\n",
    "    os.mkdir('model')\n",
    "with open('model/tokenizer_rnn.pickle', 'wb') as handle:\n",
    "    pickle.dump(tokenizer, handle, protocol=pickle.HIGHEST_PROTOCOL)\n",
    "    print(\"tokenizer has been saved.\")"
   ]
  },
  {
   "cell_type": "code",
   "execution_count": null,
   "metadata": {},
   "outputs": [],
   "source": []
  },
  {
   "cell_type": "code",
   "execution_count": null,
   "metadata": {},
   "outputs": [],
   "source": [
    "#classes = model.predict(X_test, batch_size=50)"
   ]
  }
 ],
 "metadata": {
  "colab": {
   "default_view": {},
   "name": "RNN.ipynb",
   "provenance": [],
   "version": "0.3.2",
   "views": {}
  },
  "kernelspec": {
   "display_name": "Python 3 (ipykernel)",
   "language": "python",
   "name": "python3"
  },
  "language_info": {
   "codemirror_mode": {
    "name": "ipython",
    "version": 3
   },
   "file_extension": ".py",
   "mimetype": "text/x-python",
   "name": "python",
   "nbconvert_exporter": "python",
   "pygments_lexer": "ipython3",
   "version": "3.9.6"
  }
 },
 "nbformat": 4,
 "nbformat_minor": 1
}
