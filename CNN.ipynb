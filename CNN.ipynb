{
 "cells": [
  {
   "cell_type": "code",
   "execution_count": 1,
   "metadata": {
    "colab": {
     "autoexec": {
      "startup": false,
      "wait_interval": 0
     }
    },
    "colab_type": "code",
    "id": "-YibpL3v8Sf8"
   },
   "outputs": [],
   "source": [
    "import numpy as np\n",
    "import pandas as pd\n",
    "import pickle\n",
    "from collections import defaultdict\n",
    "import re\n",
    "import sys\n",
    "import os\n",
    "os.environ['KERAS_BACKEND']='theano' # Why theano why not\n",
    "from keras.preprocessing.text import Tokenizer\n",
    "from keras.preprocessing.sequence import pad_sequences\n",
    "from keras.utils.np_utils import to_categorical\n",
    "from keras.layers import Embedding\n",
    "from keras.layers import Dense, Input, Flatten\n",
    "from keras.layers import Conv1D, MaxPooling1D, Embedding, Dropout\n",
    "from keras.models import Model\n",
    "from keras.callbacks import ModelCheckpoint,EarlyStopping\n",
    "import matplotlib.pyplot as plt\n",
    "import tensorflow as tf\n",
    "\n",
    "\n",
    "\n",
    "plt.switch_backend('agg')\n",
    "%matplotlib inline"
   ]
  },
  {
   "cell_type": "code",
   "execution_count": 2,
   "metadata": {
    "colab": {
     "autoexec": {
      "startup": false,
      "wait_interval": 0
     }
    },
    "colab_type": "code",
    "id": "LG-0Ij2V-Bjl"
   },
   "outputs": [],
   "source": [
    "MAX_SEQUENCE_LENGTH = 1000\n",
    "MAX_NB_WORDS = 15000\n",
    "EMBEDDING_DIM = 200 # 100\n",
    "VALIDATION_SPLIT = 0.2\n",
    "LOAD_MODEL = True # True\n",
    "EVALUATION_MODE = False\n",
    "RUNS = 5\n",
    "DROPOUT_RATE = 0.2"
   ]
  },
  {
   "cell_type": "code",
   "execution_count": 3,
   "metadata": {
    "colab": {
     "autoexec": {
      "startup": false,
      "wait_interval": 0
     },
     "base_uri": "https://localhost:8080/",
     "height": 68
    },
    "colab_type": "code",
    "executionInfo": {
     "elapsed": 1219,
     "status": "ok",
     "timestamp": 1530788057022,
     "user": {
      "displayName": "Akshat Maheshwari",
      "photoUrl": "//lh5.googleusercontent.com/-f-xJkriVoaI/AAAAAAAAAAI/AAAAAAAAAVQ/TLGa4qObGgQ/s50-c-k-no/photo.jpg",
      "userId": "114426356464940466000"
     },
     "user_tz": -330
    },
    "id": "xU-Gzp5X-G0_",
    "outputId": "d4a47aee-ee55-4685-9e09-93f603ab68b8"
   },
   "outputs": [],
   "source": [
    "# reading data\n",
    "import tensorflow_datasets as tfds\n",
    "\n",
    "import sys\n",
    "\n",
    "sys.path.append(r\"myutils\")\n",
    "\n",
    "from myutils import clean_doc\n",
    "\n",
    "\n",
    "import os\n",
    "\n",
    "#import nltk\n",
    "\n",
    "#nltk.download('stopwords')\n",
    "\n"
   ]
  },
  {
   "cell_type": "code",
   "execution_count": 4,
   "metadata": {},
   "outputs": [
    {
     "name": "stdout",
     "output_type": "stream",
     "text": [
      "Train samples: 25000\n",
      "Test samples:  25000\n"
     ]
    }
   ],
   "source": [
    "#Load train dataset\n",
    "DATASET =\"imdb_reviews\"  # 'yelp_polarity_reviews'\n",
    "train = tfds.as_numpy(tfds.load(DATASET, data_dir=f\"{DATASET}\", split=\"train\", batch_size=-1))\n",
    "X_train, y_train = [clean_doc(x.decode()) for x in train[\"text\"]], train[\"label\"]\n",
    "\n",
    "# Load test dataset\n",
    "test = tfds.as_numpy(tfds.load(DATASET, data_dir=f\"{DATASET}\", split=\"test\", batch_size=-1))\n",
    "X_test, y_test = [clean_doc(x.decode()) for x in test[\"text\"]], test[\"label\"]\n",
    "\n",
    "print(f\"Train samples: {len(X_train)}\")\n",
    "print(f\"Test samples:  {len(X_test)}\")\n"
   ]
  },
  {
   "cell_type": "code",
   "execution_count": 5,
   "metadata": {},
   "outputs": [
    {
     "name": "stdout",
     "output_type": "stream",
     "text": [
      "absolutely terrible movie lured christopher walken michael ironside great actors must simply worst role history even great acting could redeem movies ridiculous storyline movie early nineties us propaganda piece pathetic scenes columbian rebels making cases revolutions maria conchita alonso appeared phony pseudolove affair walken nothing pathetic emotional plug movie devoid real meaning disappointed movies like this ruining actors like christopher walkens good name could barely sit it\n"
     ]
    }
   ],
   "source": [
    "print(X_train[0])"
   ]
  },
  {
   "cell_type": "code",
   "execution_count": 6,
   "metadata": {
    "colab": {
     "autoexec": {
      "startup": false,
      "wait_interval": 0
     },
     "base_uri": "https://localhost:8080/",
     "height": 34
    },
    "colab_type": "code",
    "executionInfo": {
     "elapsed": 1410,
     "status": "ok",
     "timestamp": 1530788068659,
     "user": {
      "displayName": "Akshat Maheshwari",
      "photoUrl": "//lh5.googleusercontent.com/-f-xJkriVoaI/AAAAAAAAAAI/AAAAAAAAAVQ/TLGa4qObGgQ/s50-c-k-no/photo.jpg",
      "userId": "114426356464940466000"
     },
     "user_tz": -330
    },
    "id": "UybzQTeT-jGj",
    "outputId": "fee861a5-5673-4b6e-ccd7-f08ccdebf76c"
   },
   "outputs": [
    {
     "name": "stdout",
     "output_type": "stream",
     "text": [
      "Number of Unique Tokens 121361\n"
     ]
    }
   ],
   "source": [
    "tokenizer = Tokenizer(num_words=MAX_NB_WORDS)\n",
    "tokenizer.fit_on_texts(X_train)\n",
    "sequences = tokenizer.texts_to_sequences(X_train)\n",
    "\n",
    "word_index = tokenizer.word_index\n",
    "print('Number of Unique Tokens',len(word_index))"
   ]
  },
  {
   "cell_type": "code",
   "execution_count": 7,
   "metadata": {
    "colab": {
     "autoexec": {
      "startup": false,
      "wait_interval": 0
     },
     "base_uri": "https://localhost:8080/",
     "height": 51
    },
    "colab_type": "code",
    "executionInfo": {
     "elapsed": 1190,
     "status": "ok",
     "timestamp": 1530788073777,
     "user": {
      "displayName": "Akshat Maheshwari",
      "photoUrl": "//lh5.googleusercontent.com/-f-xJkriVoaI/AAAAAAAAAAI/AAAAAAAAAVQ/TLGa4qObGgQ/s50-c-k-no/photo.jpg",
      "userId": "114426356464940466000"
     },
     "user_tz": -330
    },
    "id": "lammuHZ3-puo",
    "outputId": "3ac2e35b-2ab4-48ab-aab8-2253748e9270"
   },
   "outputs": [
    {
     "name": "stdout",
     "output_type": "stream",
     "text": [
      "Shape of Data Tensor: (25000, 1000)\n",
      "Shape of Label Tensor: (25000, 2)\n"
     ]
    }
   ],
   "source": [
    "data1 = pad_sequences(sequences, maxlen=MAX_SEQUENCE_LENGTH)\n",
    "\n",
    "labels1 = to_categorical(np.asarray(y_train))\n",
    "\n",
    "print('Shape of Data Tensor:', data1.shape)\n",
    "print('Shape of Label Tensor:', labels1.shape)\n"
   ]
  },
  {
   "cell_type": "code",
   "execution_count": 8,
   "metadata": {
    "colab": {
     "autoexec": {
      "startup": false,
      "wait_interval": 0
     },
     "base_uri": "https://localhost:8080/",
     "height": 34
    },
    "colab_type": "code",
    "executionInfo": {
     "elapsed": 12325,
     "status": "ok",
     "timestamp": 1530788092979,
     "user": {
      "displayName": "Akshat Maheshwari",
      "photoUrl": "//lh5.googleusercontent.com/-f-xJkriVoaI/AAAAAAAAAAI/AAAAAAAAAVQ/TLGa4qObGgQ/s50-c-k-no/photo.jpg",
      "userId": "114426356464940466000"
     },
     "user_tz": -330
    },
    "id": "1cia1lKp8YN2",
    "outputId": "ddd4e1b5-a416-484d-8580-86816aeff61d"
   },
   "outputs": [
    {
     "name": "stdout",
     "output_type": "stream",
     "text": [
      "Pretrained GloVe embedding is loading...\n",
      "Found 400000 word vectors in GloVe embedding\n",
      "\n"
     ]
    }
   ],
   "source": [
    "from myutils import create_glove_embeddings\n",
    "emb_layer = create_glove_embeddings(\n",
    "            embedding_dim  = EMBEDDING_DIM,\n",
    "            max_num_words  = MAX_NB_WORDS,\n",
    "            max_seq_length = MAX_SEQUENCE_LENGTH,\n",
    "            tokenizer      = tokenizer\n",
    "        )"
   ]
  },
  {
   "cell_type": "code",
   "execution_count": 9,
   "metadata": {
    "colab": {
     "autoexec": {
      "startup": false,
      "wait_interval": 0
     },
     "base_uri": "https://localhost:8080/",
     "height": 527
    },
    "colab_type": "code",
    "executionInfo": {
     "elapsed": 1926,
     "status": "ok",
     "timestamp": 1530788208818,
     "user": {
      "displayName": "Akshat Maheshwari",
      "photoUrl": "//lh5.googleusercontent.com/-f-xJkriVoaI/AAAAAAAAAAI/AAAAAAAAAVQ/TLGa4qObGgQ/s50-c-k-no/photo.jpg",
      "userId": "114426356464940466000"
     },
     "user_tz": -330
    },
    "id": "WWAEbYKN-5dL",
    "outputId": "c4bebdf8-16e0-4982-b524-c90ee3f05173"
   },
   "outputs": [
    {
     "name": "stdout",
     "output_type": "stream",
     "text": [
      "Model: \"model\"\n",
      "_________________________________________________________________\n",
      " Layer (type)                Output Shape              Param #   \n",
      "=================================================================\n",
      " input_1 (InputLayer)        [(None, 1000)]            0         \n",
      "                                                                 \n",
      " word_embedding (Embedding)  (None, 1000, 100)         2000000   \n",
      "                                                                 \n",
      " conv1d (Conv1D)             (None, 996, 128)          64128     \n",
      "                                                                 \n",
      " max_pooling1d (MaxPooling1D  (None, 199, 128)         0         \n",
      " )                                                               \n",
      "                                                                 \n",
      " conv1d_1 (Conv1D)           (None, 195, 128)          82048     \n",
      "                                                                 \n",
      " max_pooling1d_1 (MaxPooling  (None, 39, 128)          0         \n",
      " 1D)                                                             \n",
      "                                                                 \n",
      " conv1d_2 (Conv1D)           (None, 35, 128)           82048     \n",
      "                                                                 \n",
      " max_pooling1d_2 (MaxPooling  (None, 1, 128)           0         \n",
      " 1D)                                                             \n",
      "                                                                 \n",
      " flatten (Flatten)           (None, 128)               0         \n",
      "                                                                 \n",
      " dense (Dense)               (None, 128)               16512     \n",
      "                                                                 \n",
      " dense_1 (Dense)             (None, 2)                 258       \n",
      "                                                                 \n",
      "=================================================================\n",
      "Total params: 2,244,994\n",
      "Trainable params: 2,244,994\n",
      "Non-trainable params: 0\n",
      "_________________________________________________________________\n"
     ]
    }
   ],
   "source": [
    "if LOAD_MODEL:\n",
    "    from keras.models import load_model\n",
    "\n",
    "    model=load_model('model_cnn.h5')\n",
    "    model.compile(loss='categorical_crossentropy',\n",
    "              optimizer=tf.optimizers.SGD(),\n",
    "              metrics=['acc'])\n",
    "    model.summary()\n",
    "else:\n",
    "    sequence_input = Input(input_shape = (MAX_SEQUENCE_LENGTH), dtype='int32')\n",
    "    embedded_sequences = emb_layer(sequence_input)\n",
    "    l_cov1= Conv1D(64, 3, activation='relu')(embedded_sequences)\n",
    "    l_pool1 = MaxPooling1D(3)(l_cov1)\n",
    "    #l_pool1 = Dropout(DROPOUT_RATE)(l_pool1)\n",
    "    l_cov2 = Conv1D(64, 4, activation='relu')(l_pool1)\n",
    "    l_pool2 = MaxPooling1D(4)(l_cov2)\n",
    "    #l_pool2 = Dropout(DROPOUT_RATE)(l_pool2)\n",
    "    l_cov3 = Conv1D(128, 5, activation='relu')(l_pool2)\n",
    "    l_pool3 = MaxPooling1D(5)(l_cov3)\n",
    "    \n",
    "    l_cov4 = Conv1D(128, 5, activation='relu')(l_pool3)\n",
    "    l_pool4 = MaxPooling1D(5)(l_cov4)\n",
    "    \n",
    "    l_cov5 = Conv1D(256, 5, activation='relu')(l_pool4)\n",
    "    l_pool5 = MaxPooling1D(35)(l_cov5)  # global max pooling\n",
    "    #l_pool3 = Dropout(DROPOUT_RATE)(l_pool3)\n",
    "    \n",
    "    l_flat = Flatten()(l_pool5)\n",
    "    l_dense = Dense(128, activation='relu')(l_flat)\n",
    "    preds = Dense(2, activation='softmax')(l_dense)\n",
    "\n",
    "    model = Model(sequence_input, preds)\n",
    "    model.compile(loss='categorical_crossentropy',\n",
    "              optimizer=tf.optimizers.SGD(),\n",
    "              metrics=['acc'])\n",
    "\n",
    "    print(\"Simplified convolutional neural network\")\n",
    "    model.summary()\n",
    "   "
   ]
  },
  {
   "cell_type": "code",
   "execution_count": 10,
   "metadata": {
    "colab": {
     "autoexec": {
      "startup": false,
      "wait_interval": 0
     },
     "base_uri": "https://localhost:8080/",
     "height": 1074
    },
    "colab_type": "code",
    "executionInfo": {
     "elapsed": 63069,
     "status": "ok",
     "timestamp": 1530787445619,
     "user": {
      "displayName": "Akshat Maheshwari",
      "photoUrl": "//lh5.googleusercontent.com/-f-xJkriVoaI/AAAAAAAAAAI/AAAAAAAAAVQ/TLGa4qObGgQ/s50-c-k-no/photo.jpg",
      "userId": "114426356464940466000"
     },
     "user_tz": -330
    },
    "id": "GET42RUmCG1s",
    "outputId": "c85f9471-8081-404f-abfc-528e9dfaceab",
    "scrolled": true
   },
   "outputs": [
    {
     "name": "stdout",
     "output_type": "stream",
     "text": [
      "Running iteration 1/5\n",
      "Epoch 1/5\n",
      "400/400 [==============================] - ETA: 0s - loss: 0.2524 - acc: 0.9004\n",
      "Epoch 1: val_loss improved from inf to 0.25404, saving model to model_cnn.h5\n",
      "400/400 [==============================] - 54s 135ms/step - loss: 0.2524 - acc: 0.9004 - val_loss: 0.2540 - val_acc: 0.8906\n",
      "Epoch 2/5\n",
      "400/400 [==============================] - ETA: 0s - loss: 0.2376 - acc: 0.9068\n",
      "Epoch 2: val_loss improved from 0.25404 to 0.21255, saving model to model_cnn.h5\n",
      "400/400 [==============================] - 49s 122ms/step - loss: 0.2376 - acc: 0.9068 - val_loss: 0.2126 - val_acc: 0.9252\n",
      "Epoch 3/5\n",
      "400/400 [==============================] - ETA: 0s - loss: 0.2088 - acc: 0.9197\n",
      "Epoch 3: val_loss did not improve from 0.21255\n",
      "400/400 [==============================] - 48s 120ms/step - loss: 0.2088 - acc: 0.9197 - val_loss: 0.2244 - val_acc: 0.9114\n",
      "Epoch 4/5\n",
      "400/400 [==============================] - ETA: 0s - loss: 0.1945 - acc: 0.9303\n",
      "Epoch 4: val_loss did not improve from 0.21255\n",
      "400/400 [==============================] - 49s 122ms/step - loss: 0.1945 - acc: 0.9303 - val_loss: 0.6032 - val_acc: 0.7352\n",
      "Epoch 5/5\n",
      "400/400 [==============================] - ETA: 0s - loss: 0.1602 - acc: 0.9456\n",
      "Epoch 5: val_loss did not improve from 0.21255\n",
      "400/400 [==============================] - 49s 123ms/step - loss: 0.1602 - acc: 0.9456 - val_loss: 0.2597 - val_acc: 0.8888\n",
      "Running iteration 2/5\n",
      "Epoch 1/5\n",
      "400/400 [==============================] - ETA: 0s - loss: 0.1756 - acc: 0.9354\n",
      "Epoch 1: val_loss improved from inf to 0.14158, saving model to model_cnn.h5\n",
      "400/400 [==============================] - 48s 121ms/step - loss: 0.1756 - acc: 0.9354 - val_loss: 0.1416 - val_acc: 0.9616\n",
      "Epoch 2/5\n",
      "400/400 [==============================] - ETA: 0s - loss: 0.1441 - acc: 0.9549\n",
      "Epoch 2: val_loss improved from 0.14158 to 0.13767, saving model to model_cnn.h5\n",
      "400/400 [==============================] - 48s 120ms/step - loss: 0.1441 - acc: 0.9549 - val_loss: 0.1377 - val_acc: 0.9580\n",
      "Epoch 3/5\n",
      "400/400 [==============================] - ETA: 0s - loss: 0.1016 - acc: 0.9730\n",
      "Epoch 3: val_loss improved from 0.13767 to 0.12808, saving model to model_cnn.h5\n",
      "400/400 [==============================] - 49s 124ms/step - loss: 0.1016 - acc: 0.9730 - val_loss: 0.1281 - val_acc: 0.9624\n",
      "Epoch 4/5\n",
      "400/400 [==============================] - ETA: 0s - loss: 0.0863 - acc: 0.9789\n",
      "Epoch 4: val_loss did not improve from 0.12808\n",
      "400/400 [==============================] - 55s 138ms/step - loss: 0.0863 - acc: 0.9789 - val_loss: 0.1306 - val_acc: 0.9594\n",
      "Epoch 5/5\n",
      "400/400 [==============================] - ETA: 0s - loss: 0.0518 - acc: 0.9902\n",
      "Epoch 5: val_loss did not improve from 0.12808\n",
      "400/400 [==============================] - 50s 124ms/step - loss: 0.0518 - acc: 0.9902 - val_loss: 0.1378 - val_acc: 0.9546\n",
      "Running iteration 3/5\n",
      "Epoch 1/5\n",
      "400/400 [==============================] - ETA: 0s - loss: 0.1386 - acc: 0.9603\n",
      "Epoch 1: val_loss improved from inf to 0.07238, saving model to model_cnn.h5\n",
      "400/400 [==============================] - 49s 123ms/step - loss: 0.1386 - acc: 0.9603 - val_loss: 0.0724 - val_acc: 0.9844\n",
      "Epoch 2/5\n",
      "400/400 [==============================] - ETA: 0s - loss: 0.0605 - acc: 0.9869\n",
      "Epoch 2: val_loss improved from 0.07238 to 0.06207, saving model to model_cnn.h5\n",
      "400/400 [==============================] - 51s 127ms/step - loss: 0.0605 - acc: 0.9869 - val_loss: 0.0621 - val_acc: 0.9872\n",
      "Epoch 3/5\n",
      "400/400 [==============================] - ETA: 0s - loss: 0.0459 - acc: 0.9920\n",
      "Epoch 3: val_loss did not improve from 0.06207\n",
      "400/400 [==============================] - 50s 126ms/step - loss: 0.0459 - acc: 0.9920 - val_loss: 0.0623 - val_acc: 0.9862\n",
      "Epoch 4/5\n",
      "400/400 [==============================] - ETA: 0s - loss: 0.0177 - acc: 0.9984\n",
      "Epoch 4: val_loss improved from 0.06207 to 0.05600, saving model to model_cnn.h5\n",
      "400/400 [==============================] - 48s 121ms/step - loss: 0.0177 - acc: 0.9984 - val_loss: 0.0560 - val_acc: 0.9876\n",
      "Epoch 5/5\n",
      "400/400 [==============================] - ETA: 0s - loss: 0.0115 - acc: 0.9992\n",
      "Epoch 5: val_loss did not improve from 0.05600\n",
      "400/400 [==============================] - 48s 119ms/step - loss: 0.0115 - acc: 0.9992 - val_loss: 0.0579 - val_acc: 0.9864\n",
      "Running iteration 4/5\n",
      "Epoch 1/5\n",
      "400/400 [==============================] - ETA: 0s - loss: 0.0562 - acc: 0.9862\n",
      "Epoch 1: val_loss improved from inf to 0.06178, saving model to model_cnn.h5\n",
      "400/400 [==============================] - 51s 126ms/step - loss: 0.0562 - acc: 0.9862 - val_loss: 0.0618 - val_acc: 0.9844\n",
      "Epoch 2/5\n",
      "400/400 [==============================] - ETA: 0s - loss: 0.0133 - acc: 0.9991\n",
      "Epoch 2: val_loss improved from 0.06178 to 0.02358, saving model to model_cnn.h5\n",
      "400/400 [==============================] - 47s 119ms/step - loss: 0.0133 - acc: 0.9991 - val_loss: 0.0236 - val_acc: 0.9966\n",
      "Epoch 3/5\n",
      "400/400 [==============================] - ETA: 0s - loss: 0.0080 - acc: 0.9997\n",
      "Epoch 3: val_loss improved from 0.02358 to 0.01977, saving model to model_cnn.h5\n",
      "400/400 [==============================] - 50s 124ms/step - loss: 0.0080 - acc: 0.9997 - val_loss: 0.0198 - val_acc: 0.9968\n",
      "Epoch 4/5\n",
      "400/400 [==============================] - ETA: 0s - loss: 0.0058 - acc: 0.9997\n",
      "Epoch 4: val_loss did not improve from 0.01977\n",
      "400/400 [==============================] - 48s 121ms/step - loss: 0.0058 - acc: 0.9997 - val_loss: 0.0201 - val_acc: 0.9966\n",
      "Epoch 5/5\n",
      "400/400 [==============================] - ETA: 0s - loss: 0.0045 - acc: 0.9998\n",
      "Epoch 5: val_loss did not improve from 0.01977\n",
      "400/400 [==============================] - 52s 131ms/step - loss: 0.0045 - acc: 0.9998 - val_loss: 0.0210 - val_acc: 0.9964\n",
      "Running iteration 5/5\n",
      "Epoch 1/5\n",
      "400/400 [==============================] - ETA: 0s - loss: 0.0455 - acc: 0.9943\n",
      "Epoch 1: val_loss improved from inf to 0.03895, saving model to model_cnn.h5\n",
      "400/400 [==============================] - 54s 135ms/step - loss: 0.0455 - acc: 0.9943 - val_loss: 0.0390 - val_acc: 0.9920\n",
      "Epoch 2/5\n",
      "400/400 [==============================] - ETA: 0s - loss: 0.0088 - acc: 0.9995\n",
      "Epoch 2: val_loss improved from 0.03895 to 0.01497, saving model to model_cnn.h5\n",
      "400/400 [==============================] - 52s 131ms/step - loss: 0.0088 - acc: 0.9995 - val_loss: 0.0150 - val_acc: 0.9986\n",
      "Epoch 3/5\n",
      "400/400 [==============================] - ETA: 0s - loss: 0.0042 - acc: 0.9999\n",
      "Epoch 3: val_loss improved from 0.01497 to 0.00760, saving model to model_cnn.h5\n",
      "400/400 [==============================] - 50s 126ms/step - loss: 0.0042 - acc: 0.9999 - val_loss: 0.0076 - val_acc: 0.9992\n",
      "Epoch 4/5\n",
      "400/400 [==============================] - ETA: 0s - loss: 0.0032 - acc: 0.9999\n",
      "Epoch 4: val_loss improved from 0.00760 to 0.00752, saving model to model_cnn.h5\n",
      "400/400 [==============================] - 51s 126ms/step - loss: 0.0032 - acc: 0.9999 - val_loss: 0.0075 - val_acc: 0.9990\n",
      "Epoch 5/5\n",
      "400/400 [==============================] - ETA: 0s - loss: 0.0027 - acc: 0.9999\n",
      "Epoch 5: val_loss improved from 0.00752 to 0.00747, saving model to model_cnn.h5\n",
      "400/400 [==============================] - 49s 123ms/step - loss: 0.0027 - acc: 0.9999 - val_loss: 0.0075 - val_acc: 0.9992\n"
     ]
    }
   ],
   "source": [
    "if not EVALUATION_MODE:\n",
    "    for i in range(RUNS):\n",
    "        print(f\"Running iteration {i+1}/{RUNS}\")\n",
    "    \n",
    "        indices = np.arange(data1.shape[0])\n",
    "        np.random.shuffle(indices)\n",
    "        data = data1[indices]\n",
    "        labels = labels1[indices]\n",
    "        nb_validation_samples = int(VALIDATION_SPLIT * data1.shape[0])\n",
    "\n",
    "        x_train = data[:-nb_validation_samples]\n",
    "        y_train = labels[:-nb_validation_samples]\n",
    "        x_val = data[-nb_validation_samples:]\n",
    "        y_val = labels[-nb_validation_samples:]\n",
    "        \n",
    "        cp=ModelCheckpoint(f\"model_cnn.h5\",monitor='val_loss',verbose=1,save_best_only=True, mode=\"min\")\n",
    "        earlystop = EarlyStopping(monitor='val_loss',\n",
    "                          min_delta=0,\n",
    "                          patience=10,\n",
    "                          verbose=1)\n",
    "    \n",
    "        history=model.fit(x_train, y_train, validation_data=(x_val, y_val),epochs=5, batch_size=50,callbacks=[cp, earlystop])"
   ]
  },
  {
   "cell_type": "code",
   "execution_count": 11,
   "metadata": {
    "colab": {
     "autoexec": {
      "startup": false,
      "wait_interval": 0
     },
     "base_uri": "https://localhost:8080/",
     "height": 302
    },
    "colab_type": "code",
    "executionInfo": {
     "elapsed": 1410,
     "status": "ok",
     "timestamp": 1530787456262,
     "user": {
      "displayName": "Akshat Maheshwari",
      "photoUrl": "//lh5.googleusercontent.com/-f-xJkriVoaI/AAAAAAAAAAI/AAAAAAAAAVQ/TLGa4qObGgQ/s50-c-k-no/photo.jpg",
      "userId": "114426356464940466000"
     },
     "user_tz": -330
    },
    "id": "Hw6nPvUG_js0",
    "outputId": "f9404a8a-f642-427f-c252-172d2f1d8036"
   },
   "outputs": [
    {
     "data": {
      "image/png": "[encoded data removed]",
      "text/plain": [
       "<Figure size 432x288 with 1 Axes>"
      ]
     },
     "metadata": {
      "needs_background": "light"
     },
     "output_type": "display_data"
    }
   ],
   "source": [
    "if not EVALUATION_MODE:\n",
    "    fig1 = plt.figure()\n",
    "    plt.plot(history.history['loss'],'r',linewidth=3.0)\n",
    "    plt.plot(history.history['val_loss'],'b',linewidth=3.0)\n",
    "    plt.legend(['Training loss', 'Validation Loss'],fontsize=18)\n",
    "    plt.xlabel('Epochs ',fontsize=16)\n",
    "    plt.ylabel('Loss',fontsize=16)\n",
    "    plt.title('Loss Curves :CNN',fontsize=16)\n",
    "    fig1.savefig('loss_cnn.png')\n",
    "    plt.show()"
   ]
  },
  {
   "cell_type": "code",
   "execution_count": 12,
   "metadata": {
    "colab": {
     "autoexec": {
      "startup": false,
      "wait_interval": 0
     },
     "base_uri": "https://localhost:8080/",
     "height": 302
    },
    "colab_type": "code",
    "executionInfo": {
     "elapsed": 1312,
     "status": "ok",
     "timestamp": 1530787460989,
     "user": {
      "displayName": "Akshat Maheshwari",
      "photoUrl": "//lh5.googleusercontent.com/-f-xJkriVoaI/AAAAAAAAAAI/AAAAAAAAAVQ/TLGa4qObGgQ/s50-c-k-no/photo.jpg",
      "userId": "114426356464940466000"
     },
     "user_tz": -330
    },
    "id": "akd1Jx2a_kbh",
    "outputId": "8807113d-cb58-463b-b2cf-71a8cb6abe99"
   },
   "outputs": [
    {
     "data": {
      "image/png": "[encoded data removed]",
      "text/plain": [
       "<Figure size 432x288 with 1 Axes>"
      ]
     },
     "metadata": {
      "needs_background": "light"
     },
     "output_type": "display_data"
    }
   ],
   "source": [
    "if not EVALUATION_MODE:\n",
    "    fig2=plt.figure()\n",
    "    plt.plot(history.history['acc'],'r',linewidth=3.0)\n",
    "    plt.plot(history.history['val_acc'],'b',linewidth=3.0)\n",
    "    plt.legend(['Training Accuracy', 'Validation Accuracy'],fontsize=18)\n",
    "    plt.xlabel('Epochs ',fontsize=16)\n",
    "    plt.ylabel('Accuracy',fontsize=16)\n",
    "    plt.title('Accuracy Curves : CNN',fontsize=16)\n",
    "    fig2.savefig('accuracy_cnn.png')\n",
    "    plt.show()"
   ]
  },
  {
   "cell_type": "code",
   "execution_count": 13,
   "metadata": {
    "colab": {
     "autoexec": {
      "startup": false,
      "wait_interval": 0
     }
    },
    "colab_type": "code",
    "id": "BH5VmVtmf9_R"
   },
   "outputs": [],
   "source": [
    "if not EVALUATION_MODE:\n",
    "    from keras.utils.vis_utils import plot_model\n",
    "    plot_model(model, to_file='cnn_model.png', show_shapes=True, show_layer_names=True)"
   ]
  },
  {
   "cell_type": "code",
   "execution_count": 14,
   "metadata": {
    "colab": {
     "autoexec": {
      "startup": false,
      "wait_interval": 0
     },
     "base_uri": "https://localhost:8080/",
     "height": 1197
    },
    "colab_type": "code",
    "executionInfo": {
     "elapsed": 1478,
     "status": "ok",
     "timestamp": 1530797250743,
     "user": {
      "displayName": "Akshat Maheshwari",
      "photoUrl": "//lh5.googleusercontent.com/-f-xJkriVoaI/AAAAAAAAAAI/AAAAAAAAAVQ/TLGa4qObGgQ/s50-c-k-no/photo.jpg",
      "userId": "114426356464940466000"
     },
     "user_tz": -330
    },
    "id": "UBo-Zv-WkcHJ",
    "outputId": "9fedbf0c-257a-413c-c4fe-f03e8780d906"
   },
   "outputs": [],
   "source": [
    "if EVALUATION_MODE:\n",
    "    from PIL import Image\n",
    "    display(Image.open('cnn_model.png'))"
   ]
  },
  {
   "cell_type": "code",
   "execution_count": 19,
   "metadata": {
    "colab": {
     "autoexec": {
      "startup": false,
      "wait_interval": 0
     }
    },
    "colab_type": "code",
    "id": "Sdom4oW-mW1V"
   },
   "outputs": [
    {
     "name": "stdout",
     "output_type": "stream",
     "text": [
      "782/782 [==============================] - 14s 18ms/step - loss: 0.8061 - acc: 0.7026\n",
      "\n",
      "Loss / accuracy on testset: 0.8061398267745972 loss / 0.7026399970054626 acc\n",
      "Standard deviation: (+-0.0) loss / (+-0.0) acc\n"
     ]
    }
   ],
   "source": [
    "from keras.models import load_model\n",
    "# evaluation\n",
    "sequences_test = tokenizer.texts_to_sequences(X_test)\n",
    "X_test_word    = pad_sequences(\n",
    "    sequences_test,\n",
    "    maxlen  = MAX_SEQUENCE_LENGTH,\n",
    "    padding = 'post'\n",
    ")\n",
    "\n",
    "X_test_word = X_test_word\n",
    "\n",
    "\n",
    "\n",
    "test_loss = []\n",
    "test_accs = []\n",
    "\n",
    "\n",
    "cnn_ = load_model(f\"model_cnn.h5\")\n",
    "score = cnn_.evaluate(X_test_word, to_categorical(y_test), verbose=1)\n",
    "test_loss.append(score[0])\n",
    "test_accs.append(score[1])\n",
    "    \n",
    "print(f\"\\nLoss / accuracy on testset: {np.mean(test_loss)} loss / {np.mean(test_accs)} acc\")\n",
    "print(f\"Standard deviation: (+-{np.std(test_loss)}) loss / (+-{np.std(test_accs)}) acc\")\n",
    "\n"
   ]
  },
  {
   "cell_type": "code",
   "execution_count": 18,
   "metadata": {},
   "outputs": [],
   "source": [
    "classes = model.predict(X_test_word, batch_size=50)"
   ]
  },
  {
   "cell_type": "code",
   "execution_count": null,
   "metadata": {},
   "outputs": [],
   "source": []
  }
 ],
 "metadata": {
  "colab": {
   "default_view": {},
   "name": "CNN.ipynb",
   "provenance": [],
   "version": "0.3.2",
   "views": {}
  },
  "kernelspec": {
   "display_name": "Python 3 (ipykernel)",
   "language": "python",
   "name": "python3"
  },
  "language_info": {
   "codemirror_mode": {
    "name": "ipython",
    "version": 3
   },
   "file_extension": ".py",
   "mimetype": "text/x-python",
   "name": "python",
   "nbconvert_exporter": "python",
   "pygments_lexer": "ipython3",
   "version": "3.9.6"
  }
 },
 "nbformat": 4,
 "nbformat_minor": 1
}
