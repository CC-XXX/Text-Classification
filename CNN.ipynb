{
 "cells": [
  {
   "cell_type": "code",
   "execution_count": 1,
   "metadata": {
    "colab": {
     "autoexec": {
      "startup": false,
      "wait_interval": 0
     }
    },
    "colab_type": "code",
    "id": "-YibpL3v8Sf8"
   },
   "outputs": [],
   "source": [
    "import numpy as np\n",
    "import pandas as pd\n",
    "import pickle\n",
    "from collections import defaultdict\n",
    "import re\n",
    "import sys\n",
    "import os\n",
    "os.environ['KERAS_BACKEND']='theano' # Why theano why not\n",
    "from keras.preprocessing.text import Tokenizer\n",
    "from keras.preprocessing.sequence import pad_sequences\n",
    "from keras.utils.np_utils import to_categorical\n",
    "from keras.layers import Embedding\n",
    "from keras.layers import Dense, Input, Flatten\n",
    "from keras.layers import Conv1D, MaxPooling1D, Embedding, Dropout\n",
    "from keras.models import Model\n",
    "from keras.callbacks import ModelCheckpoint,EarlyStopping\n",
    "import matplotlib.pyplot as plt\n",
    "import tensorflow as tf\n",
    "\n",
    "\n",
    "\n",
    "plt.switch_backend('agg')\n",
    "%matplotlib inline"
   ]
  },
  {
   "cell_type": "code",
   "execution_count": 2,
   "metadata": {
    "colab": {
     "autoexec": {
      "startup": false,
      "wait_interval": 0
     }
    },
    "colab_type": "code",
    "id": "LG-0Ij2V-Bjl"
   },
   "outputs": [],
   "source": [
    "MAX_SEQUENCE_LENGTH = 1000\n",
    "MAX_NB_WORDS = 15000\n",
    "EMBEDDING_DIM = 200 # 100\n",
    "VALIDATION_SPLIT = 0.2\n",
    "LOAD_MODEL = True # True\n",
    "EVALUATION_MODE = False\n",
    "RUNS = 1\n",
    "DROPOUT_RATE = 0.2"
   ]
  },
  {
   "cell_type": "code",
   "execution_count": 3,
   "metadata": {
    "colab": {
     "autoexec": {
      "startup": false,
      "wait_interval": 0
     },
     "base_uri": "https://localhost:8080/",
     "height": 68
    },
    "colab_type": "code",
    "executionInfo": {
     "elapsed": 1219,
     "status": "ok",
     "timestamp": 1530788057022,
     "user": {
      "displayName": "Akshat Maheshwari",
      "photoUrl": "//lh5.googleusercontent.com/-f-xJkriVoaI/AAAAAAAAAAI/AAAAAAAAAVQ/TLGa4qObGgQ/s50-c-k-no/photo.jpg",
      "userId": "114426356464940466000"
     },
     "user_tz": -330
    },
    "id": "xU-Gzp5X-G0_",
    "outputId": "d4a47aee-ee55-4685-9e09-93f603ab68b8"
   },
   "outputs": [],
   "source": [
    "# reading data\n",
    "import tensorflow_datasets as tfds\n",
    "\n",
    "import sys\n",
    "\n",
    "sys.path.append(r\"myutils\")\n",
    "\n",
    "from myutils import clean_doc\n",
    "\n",
    "\n",
    "import os\n",
    "\n",
    "#import nltk\n",
    "\n",
    "#nltk.download('stopwords')\n",
    "\n"
   ]
  },
  {
   "cell_type": "code",
   "execution_count": 4,
   "metadata": {},
   "outputs": [
    {
     "name": "stdout",
     "output_type": "stream",
     "text": [
      "Train samples: 25000\n",
      "Test samples:  25000\n"
     ]
    }
   ],
   "source": [
    "#Load train dataset\n",
    "DATASET =\"imdb_reviews\"  # 'yelp_polarity_reviews'\n",
    "train = tfds.as_numpy(tfds.load(DATASET, data_dir=f\"{DATASET}\", split=\"train\", batch_size=-1))\n",
    "X_train, y_train = [clean_doc(x.decode()) for x in train[\"text\"]], train[\"label\"]\n",
    "\n",
    "# Load test dataset\n",
    "test = tfds.as_numpy(tfds.load(DATASET, data_dir=f\"{DATASET}\", split=\"test\", batch_size=-1))\n",
    "X_test, y_test = [clean_doc(x.decode()) for x in test[\"text\"]], test[\"label\"]\n",
    "\n",
    "print(f\"Train samples: {len(X_train)}\")\n",
    "print(f\"Test samples:  {len(X_test)}\")\n"
   ]
  },
  {
   "cell_type": "code",
   "execution_count": 5,
   "metadata": {},
   "outputs": [
    {
     "name": "stdout",
     "output_type": "stream",
     "text": [
      "absolutely terrible movie lured christopher walken michael ironside great actors must simply worst role history even great acting could redeem movies ridiculous storyline movie early nineties us propaganda piece pathetic scenes columbian rebels making cases revolutions maria conchita alonso appeared phony pseudolove affair walken nothing pathetic emotional plug movie devoid real meaning disappointed movies like this ruining actors like christopher walkens good name could barely sit it\n"
     ]
    }
   ],
   "source": [
    "print(X_train[0])"
   ]
  },
  {
   "cell_type": "code",
   "execution_count": 6,
   "metadata": {
    "colab": {
     "autoexec": {
      "startup": false,
      "wait_interval": 0
     },
     "base_uri": "https://localhost:8080/",
     "height": 34
    },
    "colab_type": "code",
    "executionInfo": {
     "elapsed": 1410,
     "status": "ok",
     "timestamp": 1530788068659,
     "user": {
      "displayName": "Akshat Maheshwari",
      "photoUrl": "//lh5.googleusercontent.com/-f-xJkriVoaI/AAAAAAAAAAI/AAAAAAAAAVQ/TLGa4qObGgQ/s50-c-k-no/photo.jpg",
      "userId": "114426356464940466000"
     },
     "user_tz": -330
    },
    "id": "UybzQTeT-jGj",
    "outputId": "fee861a5-5673-4b6e-ccd7-f08ccdebf76c"
   },
   "outputs": [
    {
     "name": "stdout",
     "output_type": "stream",
     "text": [
      "Number of Unique Tokens 121361\n"
     ]
    }
   ],
   "source": [
    "if LOAD_MODEL:\n",
    "    with open('model/tokenizer_cnn.pickle', 'rb') as handle:\n",
    "        tokenizer = pickle.load(handle)\n",
    "else:\n",
    "    tokenizer = Tokenizer(num_words=MAX_NB_WORDS)\n",
    "    tokenizer.fit_on_texts(X_train)\n",
    "\n",
    "sequences = tokenizer.texts_to_sequences(X_train)\n",
    "\n",
    "word_index = tokenizer.word_index\n",
    "print('Number of Unique Tokens',len(word_index))\n"
   ]
  },
  {
   "cell_type": "code",
   "execution_count": 7,
   "metadata": {
    "colab": {
     "autoexec": {
      "startup": false,
      "wait_interval": 0
     },
     "base_uri": "https://localhost:8080/",
     "height": 51
    },
    "colab_type": "code",
    "executionInfo": {
     "elapsed": 1190,
     "status": "ok",
     "timestamp": 1530788073777,
     "user": {
      "displayName": "Akshat Maheshwari",
      "photoUrl": "//lh5.googleusercontent.com/-f-xJkriVoaI/AAAAAAAAAAI/AAAAAAAAAVQ/TLGa4qObGgQ/s50-c-k-no/photo.jpg",
      "userId": "114426356464940466000"
     },
     "user_tz": -330
    },
    "id": "lammuHZ3-puo",
    "outputId": "3ac2e35b-2ab4-48ab-aab8-2253748e9270"
   },
   "outputs": [
    {
     "name": "stdout",
     "output_type": "stream",
     "text": [
      "Shape of Data Tensor: (25000, 1000)\n",
      "Shape of Label Tensor: (25000, 2)\n"
     ]
    }
   ],
   "source": [
    "data1 = pad_sequences(sequences, maxlen=MAX_SEQUENCE_LENGTH)\n",
    "\n",
    "labels1 = to_categorical(np.asarray(y_train))\n",
    "\n",
    "print('Shape of Data Tensor:', data1.shape)\n",
    "print('Shape of Label Tensor:', labels1.shape)\n"
   ]
  },
  {
   "cell_type": "code",
   "execution_count": 8,
   "metadata": {
    "colab": {
     "autoexec": {
      "startup": false,
      "wait_interval": 0
     },
     "base_uri": "https://localhost:8080/",
     "height": 34
    },
    "colab_type": "code",
    "executionInfo": {
     "elapsed": 12325,
     "status": "ok",
     "timestamp": 1530788092979,
     "user": {
      "displayName": "Akshat Maheshwari",
      "photoUrl": "//lh5.googleusercontent.com/-f-xJkriVoaI/AAAAAAAAAAI/AAAAAAAAAVQ/TLGa4qObGgQ/s50-c-k-no/photo.jpg",
      "userId": "114426356464940466000"
     },
     "user_tz": -330
    },
    "id": "1cia1lKp8YN2",
    "outputId": "ddd4e1b5-a416-484d-8580-86816aeff61d"
   },
   "outputs": [
    {
     "name": "stdout",
     "output_type": "stream",
     "text": [
      "Pretrained GloVe embedding is loading...\n",
      "Found 400000 word vectors in GloVe embedding\n",
      "\n"
     ]
    }
   ],
   "source": [
    "from myutils import create_glove_embeddings\n",
    "emb_layer = create_glove_embeddings(\n",
    "            embedding_dim  = EMBEDDING_DIM,\n",
    "            max_num_words  = MAX_NB_WORDS,\n",
    "            max_seq_length = MAX_SEQUENCE_LENGTH,\n",
    "            tokenizer      = tokenizer\n",
    "        )"
   ]
  },
  {
   "cell_type": "code",
   "execution_count": 9,
   "metadata": {
    "colab": {
     "autoexec": {
      "startup": false,
      "wait_interval": 0
     },
     "base_uri": "https://localhost:8080/",
     "height": 527
    },
    "colab_type": "code",
    "executionInfo": {
     "elapsed": 1926,
     "status": "ok",
     "timestamp": 1530788208818,
     "user": {
      "displayName": "Akshat Maheshwari",
      "photoUrl": "//lh5.googleusercontent.com/-f-xJkriVoaI/AAAAAAAAAAI/AAAAAAAAAVQ/TLGa4qObGgQ/s50-c-k-no/photo.jpg",
      "userId": "114426356464940466000"
     },
     "user_tz": -330
    },
    "id": "WWAEbYKN-5dL",
    "outputId": "c4bebdf8-16e0-4982-b524-c90ee3f05173"
   },
   "outputs": [
    {
     "name": "stdout",
     "output_type": "stream",
     "text": [
      "Model: \"model\"\n",
      "_________________________________________________________________\n",
      " Layer (type)                Output Shape              Param #   \n",
      "=================================================================\n",
      " input_1 (InputLayer)        [(None, 1000)]            0         \n",
      "                                                                 \n",
      " word_embedding (Embedding)  (None, 1000, 200)         3000000   \n",
      "                                                                 \n",
      " conv1d (Conv1D)             (None, 998, 64)           38464     \n",
      "                                                                 \n",
      " max_pooling1d (MaxPooling1D  (None, 332, 64)          0         \n",
      " )                                                               \n",
      "                                                                 \n",
      " conv1d_1 (Conv1D)           (None, 329, 64)           16448     \n",
      "                                                                 \n",
      " max_pooling1d_1 (MaxPooling  (None, 82, 64)           0         \n",
      " 1D)                                                             \n",
      "                                                                 \n",
      " conv1d_2 (Conv1D)           (None, 78, 128)           41088     \n",
      "                                                                 \n",
      " max_pooling1d_2 (MaxPooling  (None, 15, 128)          0         \n",
      " 1D)                                                             \n",
      "                                                                 \n",
      " conv1d_3 (Conv1D)           (None, 11, 128)           82048     \n",
      "                                                                 \n",
      " max_pooling1d_3 (MaxPooling  (None, 1, 128)           0         \n",
      " 1D)                                                             \n",
      "                                                                 \n",
      " flatten (Flatten)           (None, 128)               0         \n",
      "                                                                 \n",
      " dense (Dense)               (None, 128)               16512     \n",
      "                                                                 \n",
      " dense_1 (Dense)             (None, 2)                 258       \n",
      "                                                                 \n",
      "=================================================================\n",
      "Total params: 3,194,818\n",
      "Trainable params: 3,194,818\n",
      "Non-trainable params: 0\n",
      "_________________________________________________________________\n"
     ]
    }
   ],
   "source": [
    "if LOAD_MODEL:\n",
    "    from keras.models import load_model\n",
    "\n",
    "    model=load_model('model_cnn.h5')\n",
    "    model.compile(loss='categorical_crossentropy',\n",
    "              optimizer=tf.optimizers.SGD(),\n",
    "              metrics=['acc'])\n",
    "    model.summary()\n",
    "else:\n",
    "    sequence_input = Input(shape=(MAX_SEQUENCE_LENGTH,), dtype='int32')\n",
    "    embedded_sequences = emb_layer(sequence_input)\n",
    "    l_cov1= Conv1D(64, 3, activation='relu')(embedded_sequences)\n",
    "    l_pool1 = MaxPooling1D(3)(l_cov1)\n",
    "    #l_pool1 = Dropout(DROPOUT_RATE)(l_pool1)\n",
    "    l_cov2 = Conv1D(64, 4, activation='relu')(l_pool1)\n",
    "    l_pool2 = MaxPooling1D(4)(l_cov2)\n",
    "    #l_pool2 = Dropout(DROPOUT_RATE)(l_pool2)\n",
    "    l_cov3 = Conv1D(128, 5, activation='relu')(l_pool2)\n",
    "    l_pool3 = MaxPooling1D(5)(l_cov3)\n",
    "    \n",
    "    l_cov4 = Conv1D(128, 5, activation='relu')(l_pool3)\n",
    "    l_pool4 = MaxPooling1D(10)(l_cov4)  # global max pooling\n",
    "    #l_pool3 = Dropout(DROPOUT_RATE)(l_pool3)\n",
    "    \n",
    "    l_flat = Flatten()(l_pool4)\n",
    "    l_dense = Dense(128, activation='relu')(l_flat)\n",
    "    preds = Dense(2, activation='softmax')(l_dense)\n",
    "\n",
    "    model = Model(sequence_input, preds)\n",
    "    model.compile(loss='categorical_crossentropy',\n",
    "              optimizer=tf.optimizers.SGD(),\n",
    "              metrics=['acc'])\n",
    "\n",
    "    print(\"Simplified convolutional neural network\")\n",
    "    model.summary()\n",
    "   "
   ]
  },
  {
   "cell_type": "code",
   "execution_count": 10,
   "metadata": {
    "colab": {
     "autoexec": {
      "startup": false,
      "wait_interval": 0
     },
     "base_uri": "https://localhost:8080/",
     "height": 1074
    },
    "colab_type": "code",
    "executionInfo": {
     "elapsed": 63069,
     "status": "ok",
     "timestamp": 1530787445619,
     "user": {
      "displayName": "Akshat Maheshwari",
      "photoUrl": "//lh5.googleusercontent.com/-f-xJkriVoaI/AAAAAAAAAAI/AAAAAAAAAVQ/TLGa4qObGgQ/s50-c-k-no/photo.jpg",
      "userId": "114426356464940466000"
     },
     "user_tz": -330
    },
    "id": "GET42RUmCG1s",
    "outputId": "c85f9471-8081-404f-abfc-528e9dfaceab",
    "scrolled": true
   },
   "outputs": [
    {
     "name": "stdout",
     "output_type": "stream",
     "text": [
      "Running iteration 1/1\n",
      "Epoch 1/8\n",
      "400/400 [==============================] - ETA: 0s - loss: 0.6619 - acc: 0.5702\n",
      "Epoch 1: val_loss improved from inf to 0.65584, saving model to model_cnn.h5\n",
      "400/400 [==============================] - 48s 118ms/step - loss: 0.6619 - acc: 0.5702 - val_loss: 0.6558 - val_acc: 0.5706\n",
      "Epoch 2/8\n",
      "400/400 [==============================] - ETA: 0s - loss: 0.6541 - acc: 0.5726\n",
      "Epoch 2: val_loss improved from 0.65584 to 0.65064, saving model to model_cnn.h5\n",
      "400/400 [==============================] - 47s 118ms/step - loss: 0.6541 - acc: 0.5726 - val_loss: 0.6506 - val_acc: 0.5732\n",
      "Epoch 3/8\n",
      "400/400 [==============================] - ETA: 0s - loss: 0.6468 - acc: 0.5788\n",
      "Epoch 3: val_loss improved from 0.65064 to 0.64670, saving model to model_cnn.h5\n",
      "400/400 [==============================] - 46s 115ms/step - loss: 0.6468 - acc: 0.5788 - val_loss: 0.6467 - val_acc: 0.5752\n",
      "Epoch 4/8\n",
      "400/400 [==============================] - ETA: 0s - loss: 0.6416 - acc: 0.5842\n",
      "Epoch 4: val_loss did not improve from 0.64670\n",
      "400/400 [==============================] - 47s 117ms/step - loss: 0.6416 - acc: 0.5842 - val_loss: 0.6589 - val_acc: 0.5664\n",
      "Epoch 5/8\n",
      "400/400 [==============================] - ETA: 0s - loss: 0.6352 - acc: 0.5896\n",
      "Epoch 5: val_loss improved from 0.64670 to 0.64121, saving model to model_cnn.h5\n",
      "400/400 [==============================] - 46s 116ms/step - loss: 0.6352 - acc: 0.5896 - val_loss: 0.6412 - val_acc: 0.5760\n",
      "Epoch 6/8\n",
      "400/400 [==============================] - ETA: 0s - loss: 0.6292 - acc: 0.5936\n",
      "Epoch 6: val_loss did not improve from 0.64121\n",
      "400/400 [==============================] - 47s 117ms/step - loss: 0.6292 - acc: 0.5936 - val_loss: 0.6418 - val_acc: 0.5752\n",
      "Epoch 7/8\n",
      "400/400 [==============================] - ETA: 0s - loss: 0.6259 - acc: 0.5973\n",
      "Epoch 7: val_loss did not improve from 0.64121\n",
      "400/400 [==============================] - 46s 115ms/step - loss: 0.6259 - acc: 0.5973 - val_loss: 0.6709 - val_acc: 0.5612\n",
      "Epoch 7: early stopping\n"
     ]
    }
   ],
   "source": [
    "if not EVALUATION_MODE:\n",
    "    for i in range(RUNS):\n",
    "        print(f\"Running iteration {i+1}/{RUNS}\")\n",
    "    \n",
    "        indices = np.arange(data1.shape[0])\n",
    "        np.random.shuffle(indices)\n",
    "        data = data1[indices]\n",
    "        labels = labels1[indices]\n",
    "        nb_validation_samples = int(VALIDATION_SPLIT * data1.shape[0])\n",
    "\n",
    "        x_train = data[:-nb_validation_samples]\n",
    "        y_train = labels[:-nb_validation_samples]\n",
    "        x_val = data[-nb_validation_samples:]\n",
    "        y_val = labels[-nb_validation_samples:]\n",
    "        \n",
    "        cp=ModelCheckpoint(f\"model_cnn.h5\",monitor='val_loss',verbose=1,save_best_only=True, mode=\"min\")\n",
    "        earlystop = EarlyStopping(monitor='val_loss',\n",
    "                          min_delta=0,\n",
    "                          patience=2,\n",
    "                          verbose=1)\n",
    "    \n",
    "        history=model.fit(x_train, y_train, validation_data=(x_val, y_val),epochs=13, batch_size=50,callbacks=[cp, earlystop])"
   ]
  },
  {
   "cell_type": "code",
   "execution_count": 11,
   "metadata": {},
   "outputs": [
    {
     "name": "stdout",
     "output_type": "stream",
     "text": [
      "tokenizer has been saved.\n"
     ]
    }
   ],
   "source": [
    "if not EVALUATION_MODE:\n",
    "    with open('model/tokenizer_cnn.pickle', 'wb') as handle:\n",
    "        pickle.dump(tokenizer, handle, protocol=pickle.HIGHEST_PROTOCOL)\n",
    "        print(\"tokenizer has been saved.\")"
   ]
  },
  {
   "cell_type": "code",
   "execution_count": 12,
   "metadata": {
    "colab": {
     "autoexec": {
      "startup": false,
      "wait_interval": 0
     },
     "base_uri": "https://localhost:8080/",
     "height": 302
    },
    "colab_type": "code",
    "executionInfo": {
     "elapsed": 1410,
     "status": "ok",
     "timestamp": 1530787456262,
     "user": {
      "displayName": "Akshat Maheshwari",
      "photoUrl": "//lh5.googleusercontent.com/-f-xJkriVoaI/AAAAAAAAAAI/AAAAAAAAAVQ/TLGa4qObGgQ/s50-c-k-no/photo.jpg",
      "userId": "114426356464940466000"
     },
     "user_tz": -330
    },
    "id": "Hw6nPvUG_js0",
    "outputId": "f9404a8a-f642-427f-c252-172d2f1d8036"
   },
   "outputs": [
    {
     "data": {
      "image/png": "[encoded data removed]",
      "text/plain": [
       "<Figure size 432x288 with 1 Axes>"
      ]
     },
     "metadata": {
      "needs_background": "light"
     },
     "output_type": "display_data"
    }
   ],
   "source": [
    "if not EVALUATION_MODE:\n",
    "    fig1 = plt.figure()\n",
    "    plt.plot(history.history['loss'],'r',linewidth=3.0)\n",
    "    plt.plot(history.history['val_loss'],'b',linewidth=3.0)\n",
    "    plt.legend(['Training loss', 'Validation Loss'],fontsize=18)\n",
    "    plt.xlabel('Epochs ',fontsize=16)\n",
    "    plt.ylabel('Loss',fontsize=16)\n",
    "    plt.title('Loss Curves :CNN',fontsize=16)\n",
    "    fig1.savefig('loss_cnn.png')\n",
    "    plt.show()"
   ]
  },
  {
   "cell_type": "code",
   "execution_count": 13,
   "metadata": {
    "colab": {
     "autoexec": {
      "startup": false,
      "wait_interval": 0
     },
     "base_uri": "https://localhost:8080/",
     "height": 302
    },
    "colab_type": "code",
    "executionInfo": {
     "elapsed": 1312,
     "status": "ok",
     "timestamp": 1530787460989,
     "user": {
      "displayName": "Akshat Maheshwari",
      "photoUrl": "//lh5.googleusercontent.com/-f-xJkriVoaI/AAAAAAAAAAI/AAAAAAAAAVQ/TLGa4qObGgQ/s50-c-k-no/photo.jpg",
      "userId": "114426356464940466000"
     },
     "user_tz": -330
    },
    "id": "akd1Jx2a_kbh",
    "outputId": "8807113d-cb58-463b-b2cf-71a8cb6abe99"
   },
   "outputs": [
    {
     "data": {
      "image/png": "[encoded data removed]",
      "text/plain": [
       "<Figure size 432x288 with 1 Axes>"
      ]
     },
     "metadata": {
      "needs_background": "light"
     },
     "output_type": "display_data"
    }
   ],
   "source": [
    "if not EVALUATION_MODE:\n",
    "    fig2=plt.figure()\n",
    "    plt.plot(history.history['acc'],'r',linewidth=3.0)\n",
    "    plt.plot(history.history['val_acc'],'b',linewidth=3.0)\n",
    "    plt.legend(['Training Accuracy', 'Validation Accuracy'],fontsize=18)\n",
    "    plt.xlabel('Epochs ',fontsize=16)\n",
    "    plt.ylabel('Accuracy',fontsize=16)\n",
    "    plt.title('Accuracy Curves : CNN',fontsize=16)\n",
    "    fig2.savefig('accuracy_cnn.png')\n",
    "    plt.show()"
   ]
  },
  {
   "cell_type": "code",
   "execution_count": 14,
   "metadata": {
    "colab": {
     "autoexec": {
      "startup": false,
      "wait_interval": 0
     }
    },
    "colab_type": "code",
    "id": "BH5VmVtmf9_R"
   },
   "outputs": [],
   "source": [
    "if not EVALUATION_MODE:\n",
    "    from keras.utils.vis_utils import plot_model\n",
    "    plot_model(model, to_file='cnn_model.png', show_shapes=True, show_layer_names=True)"
   ]
  },
  {
   "cell_type": "code",
   "execution_count": 15,
   "metadata": {
    "colab": {
     "autoexec": {
      "startup": false,
      "wait_interval": 0
     },
     "base_uri": "https://localhost:8080/",
     "height": 1197
    },
    "colab_type": "code",
    "executionInfo": {
     "elapsed": 1478,
     "status": "ok",
     "timestamp": 1530797250743,
     "user": {
      "displayName": "Akshat Maheshwari",
      "photoUrl": "//lh5.googleusercontent.com/-f-xJkriVoaI/AAAAAAAAAAI/AAAAAAAAAVQ/TLGa4qObGgQ/s50-c-k-no/photo.jpg",
      "userId": "114426356464940466000"
     },
     "user_tz": -330
    },
    "id": "UBo-Zv-WkcHJ",
    "outputId": "9fedbf0c-257a-413c-c4fe-f03e8780d906"
   },
   "outputs": [],
   "source": [
    "if EVALUATION_MODE:\n",
    "    from PIL import Image\n",
    "    display(Image.open('cnn_model.png'))"
   ]
  },
  {
   "cell_type": "code",
   "execution_count": 16,
   "metadata": {
    "colab": {
     "autoexec": {
      "startup": false,
      "wait_interval": 0
     }
    },
    "colab_type": "code",
    "id": "Sdom4oW-mW1V"
   },
   "outputs": [
    {
     "name": "stdout",
     "output_type": "stream",
     "text": [
      "782/782 [==============================] - 14s 18ms/step - loss: 0.6390 - acc: 0.7247\n",
      "\n",
      "Loss / accuracy on testset: 0.6389783024787903 loss / 0.7246800065040588 acc\n",
      "Standard deviation: (+-0.0) loss / (+-0.0) acc\n"
     ]
    }
   ],
   "source": [
    "from keras.models import load_model\n",
    "# evaluation\n",
    "\n",
    "with open('model/tokenizer_cnn.pickle', 'rb') as handle:\n",
    "    tokenizer = pickle.load(handle)\n",
    "\n",
    "sequences_test = tokenizer.texts_to_sequences(X_test)\n",
    "X_test_word    = pad_sequences(\n",
    "    sequences_test,\n",
    "    maxlen  = MAX_SEQUENCE_LENGTH,\n",
    "    padding = 'post'\n",
    ")\n",
    "\n",
    "X_test_word = X_test_word\n",
    "\n",
    "\n",
    "\n",
    "test_loss = []\n",
    "test_accs = []\n",
    "\n",
    "\n",
    "cnn_ = load_model(f\"model_cnn.h5\")\n",
    "score = cnn_.evaluate(X_test_word, to_categorical(y_test), verbose=1)\n",
    "test_loss.append(score[0])\n",
    "test_accs.append(score[1])\n",
    "    \n",
    "print(f\"\\nLoss / accuracy on testset: {np.mean(test_loss)} loss / {np.mean(test_accs)} acc\")\n",
    "print(f\"Standard deviation: (+-{np.std(test_loss)}) loss / (+-{np.std(test_accs)}) acc\")"
   ]
  },
  {
   "cell_type": "code",
   "execution_count": 17,
   "metadata": {},
   "outputs": [],
   "source": [
    "#from keras.utils.np_utils import to_categorical\n",
    "#score = model.evaluate(X_test_word, to_categorical(y_test), verbose=1)"
   ]
  },
  {
   "cell_type": "code",
   "execution_count": null,
   "metadata": {},
   "outputs": [],
   "source": []
  }
 ],
 "metadata": {
  "colab": {
   "default_view": {},
   "name": "CNN.ipynb",
   "provenance": [],
   "version": "0.3.2",
   "views": {}
  },
  "kernelspec": {
   "display_name": "Python 3 (ipykernel)",
   "language": "python",
   "name": "python3"
  },
  "language_info": {
   "codemirror_mode": {
    "name": "ipython",
    "version": 3
   },
   "file_extension": ".py",
   "mimetype": "text/x-python",
   "name": "python",
   "nbconvert_exporter": "python",
   "pygments_lexer": "ipython3",
   "version": "3.9.6"
  }
 },
 "nbformat": 4,
 "nbformat_minor": 1
}
